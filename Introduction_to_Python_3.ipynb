{
  "nbformat": 4,
  "nbformat_minor": 0,
  "metadata": {
    "colab": {
      "name": "Introduction to Python 3",
      "version": "0.3.2",
      "provenance": [],
      "collapsed_sections": [
        "0ZEC4V3pjalH",
        "TA461_UgZxs7",
        "IyTNBT8sh-UE",
        "8USdvrcJvk9n",
        "PNT4q5Ks7v79",
        "xNpgmyOd0gHR",
        "6qkLsTK93xxF",
        "iPp6yJhCApcR",
        "vDyUpa7_L54U",
        "dRtVOqsBC4AJ",
        "v3CGE72REsXJ",
        "GiIDiPF-QqeS"
      ],
      "include_colab_link": true
    },
    "kernelspec": {
      "name": "python3",
      "display_name": "Python 3"
    }
  },
  "cells": [
    {
      "cell_type": "markdown",
      "metadata": {
        "id": "view-in-github",
        "colab_type": "text"
      },
      "source": [
        "<a href=\"https://colab.research.google.com/github/mguthaus/learn_python/blob/master/Introduction_to_Python_3.ipynb\" target=\"_parent\"><img src=\"https://colab.research.google.com/assets/colab-badge.svg\" alt=\"Open In Colab\"/></a>"
      ]
    },
    {
      "metadata": {
        "id": "1Ycy34VcX4lu",
        "colab_type": "text"
      },
      "cell_type": "markdown",
      "source": [
        "# Introduction to Python 3\n",
        "## Luca de Alfaro\n",
        "Copyright Luca de Alfaro, 2018-19.  CC-BY-NC License.\n",
        "\n",
        "There is also an [Introduction to Python 2.7](https://colab.research.google.com/drive/1eaO-oUwfOh7DysGI_8HkXI5Bdi7DzSPt) available."
      ]
    },
    {
      "metadata": {
        "id": "X5VBxq824B5P",
        "colab_type": "text"
      },
      "cell_type": "markdown",
      "source": [
        "**Do you know** that you can make a copy of this notebook and play with it?  Just click on \"File > Save as a copy in Drive\" and then go play with your own copy! \n",
        "\n",
        "If you have feedback, you can contact me at luca@ucsc.edu"
      ]
    },
    {
      "metadata": {
        "id": "0ZEC4V3pjalH",
        "colab_type": "text"
      },
      "cell_type": "markdown",
      "source": [
        "## Integers, floats, strings, booleans, and ... None!"
      ]
    },
    {
      "metadata": {
        "id": "9DzUH9EWXmvR",
        "colab_type": "code",
        "colab": {}
      },
      "cell_type": "code",
      "source": [
        "# In python there are numbers, which can be integer or float. \n",
        "x = 1 # int\n",
        "y = 1. # float"
      ],
      "execution_count": 0,
      "outputs": []
    },
    {
      "metadata": {
        "id": "vKMUHQtJ93DU",
        "colab_type": "code",
        "outputId": "002bfd34-de85-4cda-b563-c602a4c81243",
        "colab": {
          "base_uri": "https://localhost:8080/",
          "height": 51
        }
      },
      "cell_type": "code",
      "source": [
        "# You can sum, multiply, subtract numbers, and the result is integer iff\n",
        "# both operands are integers. \n",
        "print(x + y)\n",
        "print(x + 1)"
      ],
      "execution_count": 0,
      "outputs": [
        {
          "output_type": "stream",
          "text": [
            "2.0\n",
            "2\n"
          ],
          "name": "stdout"
        }
      ]
    },
    {
      "metadata": {
        "id": "1ypAUKH8YfAN",
        "colab_type": "code",
        "outputId": "b159b738-642a-4afe-d160-d8d8b3d44f0a",
        "colab": {
          "base_uri": "https://localhost:8080/",
          "height": 34
        }
      },
      "cell_type": "code",
      "source": [
        "# In Python 3, division between integers generates a float.\n",
        "# This remedies a long-standing \"trap\" in Python 2, where 1 / 2 = 0, because \n",
        "# division between integers returned an integer: the quotient. \n",
        "x/2"
      ],
      "execution_count": 0,
      "outputs": [
        {
          "output_type": "execute_result",
          "data": {
            "text/plain": [
              "0.5"
            ]
          },
          "metadata": {
            "tags": []
          },
          "execution_count": 3
        }
      ]
    },
    {
      "metadata": {
        "id": "8GHf-9dH9oFu",
        "colab_type": "code",
        "outputId": "53be1c48-7671-4589-a44d-b38d4523345f",
        "colab": {
          "base_uri": "https://localhost:8080/",
          "height": 51
        }
      },
      "cell_type": "code",
      "source": [
        "# In Python 3, integer division (quotient) is written //, \n",
        "# and remainder is written %\n",
        "print (7 // 3)\n",
        "print (7 % 3)"
      ],
      "execution_count": 0,
      "outputs": [
        {
          "output_type": "stream",
          "text": [
            "2\n",
            "1\n"
          ],
          "name": "stdout"
        }
      ]
    },
    {
      "metadata": {
        "id": "1jV22BHoYt8F",
        "colab_type": "code",
        "outputId": "d18318bb-062d-4390-9927-133946e925a6",
        "colab": {
          "base_uri": "https://localhost:8080/",
          "height": 34
        }
      },
      "cell_type": "code",
      "source": [
        "# There are also strings in Python.  They can be delimited with either \" or '.\n",
        "s = 'A string'\n",
        "t = \"It's nice to be able to choose the delimiters\"\n",
        "print(t)"
      ],
      "execution_count": 0,
      "outputs": [
        {
          "output_type": "stream",
          "text": [
            "It's nice to be able to choose the delimiters\n"
          ],
          "name": "stdout"
        }
      ]
    },
    {
      "metadata": {
        "id": "XZF7xCVQ-bTu",
        "colab_type": "code",
        "outputId": "de0258df-2962-4596-bb11-85f5027831ae",
        "colab": {
          "base_uri": "https://localhost:8080/",
          "height": 34
        }
      },
      "cell_type": "code",
      "source": [
        "# You can concatenate strings with '+'\n",
        "print(s + t)"
      ],
      "execution_count": 0,
      "outputs": [
        {
          "output_type": "stream",
          "text": [
            "A stringIt's nice to be able to choose the delimiters\n"
          ],
          "name": "stdout"
        }
      ]
    },
    {
      "metadata": {
        "id": "V2iquQzZjGAL",
        "colab_type": "code",
        "outputId": "88ea720e-358b-462b-8106-521c112b91d3",
        "colab": {
          "base_uri": "https://localhost:8080/",
          "height": 34
        }
      },
      "cell_type": "code",
      "source": [
        "# The other basic data type is booleans.  They are 'True' and 'False'.\n",
        "b = True\n",
        "print(not b)"
      ],
      "execution_count": 0,
      "outputs": [
        {
          "output_type": "stream",
          "text": [
            "False\n"
          ],
          "name": "stdout"
        }
      ]
    },
    {
      "metadata": {
        "id": "tYki8KdKjNUc",
        "colab_type": "code",
        "outputId": "5b69fca7-d067-4cbf-fb14-c6cbb2cbef36",
        "colab": {
          "base_uri": "https://localhost:8080/",
          "height": 51
        }
      },
      "cell_type": "code",
      "source": [
        "# Relational operators, obviously enough, have boolean result:\n",
        "print(4 < 8)\n",
        "print(4 == 8)"
      ],
      "execution_count": 0,
      "outputs": [
        {
          "output_type": "stream",
          "text": [
            "True\n",
            "False\n"
          ],
          "name": "stdout"
        }
      ]
    },
    {
      "metadata": {
        "id": "fJNJLuAmjoZ0",
        "colab_type": "code",
        "outputId": "7b24c0e2-f5e0-4760-d4ca-09b5c514a368",
        "colab": {
          "base_uri": "https://localhost:8080/",
          "height": 35
        }
      },
      "cell_type": "code",
      "source": [
        "# There's a special value in Python that means, no value.  It's called None. \n",
        "c = None\n",
        "print(c)"
      ],
      "execution_count": 0,
      "outputs": [
        {
          "output_type": "stream",
          "text": [
            "None\n"
          ],
          "name": "stdout"
        }
      ]
    },
    {
      "metadata": {
        "id": "Zy234ismjxGI",
        "colab_type": "code",
        "colab": {}
      },
      "cell_type": "code",
      "source": [
        "I know it seems funny to have a value for denoting no value, but it turns out \n",
        "to be incredibly useful.  For instance, it is very often the case that you \n",
        "want to return some result, and have the option to say that there is no \n",
        "new result. None is also a value that is very commonly used to denote that\n",
        "an option is not used, or that a variable has not been initialized. \n",
        "We will see more examples of it later.  \n",
        "In programming languages, None is more! "
      ],
      "execution_count": 0,
      "outputs": []
    },
    {
      "metadata": {
        "id": "M5UsSCiR-G1r",
        "colab_type": "code",
        "outputId": "aee35d74-60c5-4a75-9e72-be69e489da31",
        "colab": {
          "base_uri": "https://localhost:8080/",
          "height": 52
        }
      },
      "cell_type": "code",
      "source": [
        "# The operators +, -, *, /, can also be used with the following shorthand:\n",
        "x = 2\n",
        "x = x + 1\n",
        "x += 1 # Same as above\n",
        "print x\n",
        "x *= 3 # Do I need to explain this? \n",
        "print x"
      ],
      "execution_count": 0,
      "outputs": [
        {
          "output_type": "stream",
          "text": [
            "4\n",
            "12\n"
          ],
          "name": "stdout"
        }
      ]
    },
    {
      "metadata": {
        "id": "3bix60K6SR1h",
        "colab_type": "text"
      },
      "cell_type": "markdown",
      "source": [
        "I know it seems funny to have a value for denoting no value, but it turns out \n",
        "to be incredibly useful.  For instance, it is very often the case that you \n",
        "want to return some result, and have the option to say that there is no \n",
        "new result. None is also a value that is very commonly used to denote that\n",
        "an option is not used, or that a variable has not been initialized. \n",
        "We will see more examples of it later.  \n",
        "In programming languages, None is more! "
      ]
    },
    {
      "metadata": {
        "id": "TA461_UgZxs7",
        "colab_type": "text"
      },
      "cell_type": "markdown",
      "source": [
        "## Lists and tuples"
      ]
    },
    {
      "metadata": {
        "id": "FrOuZWcdbkyh",
        "colab_type": "text"
      },
      "cell_type": "markdown",
      "source": [
        "### Lists"
      ]
    },
    {
      "metadata": {
        "id": "_DZtN4diZ3CG",
        "colab_type": "code",
        "outputId": "a12553b9-21a0-4096-bb93-4903e825f3f7",
        "colab": {
          "base_uri": "https://localhost:8080/",
          "height": 34
        }
      },
      "cell_type": "code",
      "source": [
        "# Lists are one of the basic data types in Python.\n",
        "l = ['a', 'b', 'c']\n",
        "print(l)"
      ],
      "execution_count": 0,
      "outputs": [
        {
          "output_type": "stream",
          "text": [
            "['a', 'b', 'c']\n"
          ],
          "name": "stdout"
        }
      ]
    },
    {
      "metadata": {
        "id": "nIIfkql1aShY",
        "colab_type": "code",
        "outputId": "0f5a76ee-3146-49fa-9fb8-4fd8914aaf2d",
        "colab": {
          "base_uri": "https://localhost:8080/",
          "height": 51
        }
      },
      "cell_type": "code",
      "source": [
        "l2 = ['cat', 'dog', 'bird']\n",
        "print(l2[0])\n",
        "print(l2[1])"
      ],
      "execution_count": 0,
      "outputs": [
        {
          "output_type": "stream",
          "text": [
            "cat\n",
            "dog\n"
          ],
          "name": "stdout"
        }
      ]
    },
    {
      "metadata": {
        "id": "23NhvjOzSlu4",
        "colab_type": "text"
      },
      "cell_type": "markdown",
      "source": [
        "### List slicing"
      ]
    },
    {
      "metadata": {
        "id": "Tjb1t38Maxg6",
        "colab_type": "code",
        "outputId": "72eed556-cc09-472b-ab6a-6b586c139e0d",
        "colab": {
          "base_uri": "https://localhost:8080/",
          "height": 34
        }
      },
      "cell_type": "code",
      "source": [
        "# You can 'slice' (yeah, that's a technical term) the beginnign and end of a list:\n",
        "l = ['cat', 'dog', 'bird', 'fish', 'ant', 'fly']\n",
        "l[:3] # Till element 3, excluded"
      ],
      "execution_count": 0,
      "outputs": [
        {
          "output_type": "execute_result",
          "data": {
            "text/plain": [
              "['cat', 'dog', 'bird']"
            ]
          },
          "metadata": {
            "tags": []
          },
          "execution_count": 4
        }
      ]
    },
    {
      "metadata": {
        "id": "9NM7TvV8bH1E",
        "colab_type": "code",
        "outputId": "dace3c59-b97e-4ea9-dda7-a67e4608131d",
        "colab": {
          "base_uri": "https://localhost:8080/",
          "height": 34
        }
      },
      "cell_type": "code",
      "source": [
        "l[3:] # From element 3 onwards"
      ],
      "execution_count": 0,
      "outputs": [
        {
          "output_type": "execute_result",
          "data": {
            "text/plain": [
              "['fish', 'ant', 'fly']"
            ]
          },
          "metadata": {
            "tags": []
          },
          "execution_count": 5
        }
      ]
    },
    {
      "metadata": {
        "id": "J34q3HkQbL8O",
        "colab_type": "code",
        "outputId": "37a45ae7-e63e-4226-b605-da5cacc0fd25",
        "colab": {
          "base_uri": "https://localhost:8080/",
          "height": 34
        }
      },
      "cell_type": "code",
      "source": [
        "print(l[1:3]) # From element 1 included, to element 3 excluded"
      ],
      "execution_count": 0,
      "outputs": [
        {
          "output_type": "stream",
          "text": [
            "['dog', 'bird']\n"
          ],
          "name": "stdout"
        }
      ]
    },
    {
      "metadata": {
        "id": "NWjv2RR6bR7D",
        "colab_type": "code",
        "outputId": "8a370652-35f3-4f23-fa6e-2f7ce9872ae7",
        "colab": {
          "base_uri": "https://localhost:8080/",
          "height": 34
        }
      },
      "cell_type": "code",
      "source": [
        "# If you use negative numbers, they count backwards from the end\n",
        "# of the list.  It's weird, but very useful.\n",
        "l[-1] # This is the last element"
      ],
      "execution_count": 0,
      "outputs": [
        {
          "output_type": "execute_result",
          "data": {
            "text/plain": [
              "'fly'"
            ]
          },
          "metadata": {
            "tags": []
          },
          "execution_count": 7
        }
      ]
    },
    {
      "metadata": {
        "id": "ai9qdyanbbxc",
        "colab_type": "code",
        "outputId": "a490dde1-7dc5-4a24-acaa-34acd587e0a6",
        "colab": {
          "base_uri": "https://localhost:8080/",
          "height": 34
        }
      },
      "cell_type": "code",
      "source": [
        "l[-2:] # From the penultimate onwards, so the last two."
      ],
      "execution_count": 0,
      "outputs": [
        {
          "output_type": "execute_result",
          "data": {
            "text/plain": [
              "['ant', 'fly']"
            ]
          },
          "metadata": {
            "tags": []
          },
          "execution_count": 8
        }
      ]
    },
    {
      "metadata": {
        "id": "MzpoBL7kS9sM",
        "colab_type": "code",
        "outputId": "6ad1e920-2655-43f1-8406-7a18a5a6eeb7",
        "colab": {
          "base_uri": "https://localhost:8080/",
          "height": 34
        }
      },
      "cell_type": "code",
      "source": [
        "# One particularly nice thing about slicing is that it never generates\n",
        "# errors.  If there's not enough of the list to slice it the way you\n",
        "# want, you will simply get a smaller slice (of course, this means that\n",
        "# the size of the resulting slice is not guaranteed).\n",
        "l = ['a', 'b', 'c', 'd', 'e', 'f']\n",
        "l"
      ],
      "execution_count": 0,
      "outputs": [
        {
          "output_type": "execute_result",
          "data": {
            "text/plain": [
              "['a', 'b', 'c', 'd', 'e', 'f']"
            ]
          },
          "metadata": {
            "tags": []
          },
          "execution_count": 9
        }
      ]
    },
    {
      "metadata": {
        "id": "NvUvIe4nTiFo",
        "colab_type": "code",
        "colab": {}
      },
      "cell_type": "code",
      "source": [
        "# But on the other hand, this does not work.\n",
        "# print(l[-10])"
      ],
      "execution_count": 0,
      "outputs": []
    },
    {
      "metadata": {
        "id": "Zb4bybUiS3qz",
        "colab_type": "text"
      },
      "cell_type": "markdown",
      "source": [
        "### List operations"
      ]
    },
    {
      "metadata": {
        "id": "oHfOp8ZHbvby",
        "colab_type": "code",
        "outputId": "7f76102a-efd0-4d47-eb84-c99c0f1868a8",
        "colab": {
          "base_uri": "https://localhost:8080/",
          "height": 34
        }
      },
      "cell_type": "code",
      "source": [
        "# You append an element to a list like so:\n",
        "l.append('spider')\n",
        "l"
      ],
      "execution_count": 0,
      "outputs": [
        {
          "output_type": "execute_result",
          "data": {
            "text/plain": [
              "['a', 'b', 'c', 'd', 'e', 'f', 'spider']"
            ]
          },
          "metadata": {
            "tags": []
          },
          "execution_count": 11
        }
      ]
    },
    {
      "metadata": {
        "id": "QR9hG_KTb4ZK",
        "colab_type": "code",
        "outputId": "5541d963-bebc-482b-8bac-6691f2445067",
        "colab": {
          "base_uri": "https://localhost:8080/",
          "height": 34
        }
      },
      "cell_type": "code",
      "source": [
        "# You can sum two lists.  \n",
        "l + [1, 2, 3]"
      ],
      "execution_count": 0,
      "outputs": [
        {
          "output_type": "execute_result",
          "data": {
            "text/plain": [
              "['a', 'b', 'c', 'd', 'e', 'f', 'spider', 1, 2, 3]"
            ]
          },
          "metadata": {
            "tags": []
          },
          "execution_count": 12
        }
      ]
    },
    {
      "metadata": {
        "id": "TvY36vE6cOfT",
        "colab_type": "code",
        "colab": {}
      },
      "cell_type": "code",
      "source": [
        "# And as you can see from above, in Python list elements don't have to be all\n",
        "# of the same type (but of course, you better know what you are doing if you\n",
        "# are mixing types: for instance, if you try to add 1 to all elements of the\n",
        "# above list forgetting that you have non-numeric types in it, you would get\n",
        "# an error)."
      ],
      "execution_count": 0,
      "outputs": []
    },
    {
      "metadata": {
        "id": "17usDLW8YEgg",
        "colab_type": "code",
        "outputId": "6181e9ee-09e3-448a-b3ca-d235a702bdb4",
        "colab": {
          "base_uri": "https://localhost:8080/",
          "height": 51
        }
      },
      "cell_type": "code",
      "source": [
        "# There are many more list operations.  Among them:\n",
        "# You can 'pop' (retrieve, and remove) an element in any position:\n",
        "x = l.pop(3)\n",
        "print(x)\n",
        "print(l)"
      ],
      "execution_count": 0,
      "outputs": [
        {
          "output_type": "stream",
          "text": [
            "d\n",
            "['a', 'b', 'c', 'e', 'f', 'spider']\n"
          ],
          "name": "stdout"
        }
      ]
    },
    {
      "metadata": {
        "id": "g0LQEbSWYYRM",
        "colab_type": "code",
        "outputId": "07a8a190-dc02-48e6-dd38-8bd3d14b6ad2",
        "colab": {
          "base_uri": "https://localhost:8080/",
          "height": 34
        }
      },
      "cell_type": "code",
      "source": [
        "# You can obtain the reverse of a list:\n",
        "l.reverse()\n",
        "l"
      ],
      "execution_count": 0,
      "outputs": [
        {
          "output_type": "execute_result",
          "data": {
            "text/plain": [
              "['spider', 'f', 'e', 'c', 'b', 'a']"
            ]
          },
          "metadata": {
            "tags": []
          },
          "execution_count": 20
        }
      ]
    },
    {
      "metadata": {
        "id": "Z5HupjJwY9dD",
        "colab_type": "code",
        "outputId": "e04c4532-9a8e-433d-edc4-43880a4b36a5",
        "colab": {
          "base_uri": "https://localhost:8080/",
          "height": 34
        }
      },
      "cell_type": "code",
      "source": [
        "# And you can sort the list (the sort command has options; see Python docs).\n",
        "l = l + ['cat']\n",
        "l.sort()\n",
        "l"
      ],
      "execution_count": 0,
      "outputs": [
        {
          "output_type": "execute_result",
          "data": {
            "text/plain": [
              "['a', 'b', 'c', 'cat', 'e', 'f', 'spider']"
            ]
          },
          "metadata": {
            "tags": []
          },
          "execution_count": 22
        }
      ]
    },
    {
      "metadata": {
        "id": "qX3ZXVoYcXt8",
        "colab_type": "code",
        "outputId": "97a69ab2-0d09-443a-95b7-62868e7c670d",
        "colab": {
          "base_uri": "https://localhost:8080/",
          "height": 34
        }
      },
      "cell_type": "code",
      "source": [
        "# You can apply one operation to all elements of a list like this. \n",
        "# First, let's notice how to capitalize a string.\n",
        "\"dog\".upper()"
      ],
      "execution_count": 0,
      "outputs": [
        {
          "output_type": "execute_result",
          "data": {
            "text/plain": [
              "'DOG'"
            ]
          },
          "metadata": {
            "tags": []
          },
          "execution_count": 23
        }
      ]
    },
    {
      "metadata": {
        "id": "Z4F-YGjcdD8U",
        "colab_type": "code",
        "outputId": "51ca202c-a544-4ef5-bb0d-67002cd75d26",
        "colab": {
          "base_uri": "https://localhost:8080/",
          "height": 34
        }
      },
      "cell_type": "code",
      "source": [
        "# Well, that's kind of too much. What I meant was:\n",
        "\"dog\".capitalize()"
      ],
      "execution_count": 0,
      "outputs": [
        {
          "output_type": "execute_result",
          "data": {
            "text/plain": [
              "'Dog'"
            ]
          },
          "metadata": {
            "tags": []
          },
          "execution_count": 24
        }
      ]
    },
    {
      "metadata": {
        "id": "6I0VvbnWdLcW",
        "colab_type": "code",
        "outputId": "2760f4b6-d035-4f7d-a181-baf4390ab493",
        "colab": {
          "base_uri": "https://localhost:8080/",
          "height": 34
        }
      },
      "cell_type": "code",
      "source": [
        "# Ok that's better.  Now, I want to get a list like l, except with the animals capitalized.\n",
        "l_capitalized = [s.capitalize() for s in l]\n",
        "l_capitalized"
      ],
      "execution_count": 0,
      "outputs": [
        {
          "output_type": "execute_result",
          "data": {
            "text/plain": [
              "['A', 'B', 'C', 'Cat', 'E', 'F', 'Spider']"
            ]
          },
          "metadata": {
            "tags": []
          },
          "execution_count": 25
        }
      ]
    },
    {
      "metadata": {
        "id": "Vbeb_TatdWcL",
        "colab_type": "code",
        "colab": {}
      },
      "cell_type": "code",
      "source": [
        "# What's going on?  Basically, in the [ ... ] we are building another list, \n",
        "# and we give the instructions on how to create each element. \n",
        "# And how do we create each element?  We iterate over the list l, \"for s in l\",\n",
        "# and for each of its elements s, we do s.capitalize(), which capitalizes the string."
      ],
      "execution_count": 0,
      "outputs": []
    },
    {
      "metadata": {
        "id": "uPz_gWlHemaf",
        "colab_type": "code",
        "outputId": "3a06dc51-4317-41fe-ab34-afa8eb0d6db2",
        "colab": {
          "base_uri": "https://localhost:8080/",
          "height": 68
        }
      },
      "cell_type": "code",
      "source": [
        "# You can get the length of a string, or a list, with the len() operator.\n",
        "print(len(l))\n",
        "print(len(l_capitalized))\n",
        "print([len(s) for s in l])"
      ],
      "execution_count": 0,
      "outputs": [
        {
          "output_type": "stream",
          "text": [
            "7\n",
            "7\n",
            "[1, 1, 1, 3, 1, 1, 6]\n"
          ],
          "name": "stdout"
        }
      ]
    },
    {
      "metadata": {
        "id": "P7-9n_PTeZEk",
        "colab_type": "text"
      },
      "cell_type": "markdown",
      "source": [
        "See https://docs.python.org/3.7/tutorial/datastructures.html for more list functions."
      ]
    },
    {
      "metadata": {
        "id": "At7-_WM6bn6A",
        "colab_type": "text"
      },
      "cell_type": "markdown",
      "source": [
        "### Tuples"
      ]
    },
    {
      "metadata": {
        "id": "7oy34EaEbrjC",
        "colab_type": "code",
        "outputId": "995ab518-a24d-4f7d-c8fe-c9f8e2f7a619",
        "colab": {
          "base_uri": "https://localhost:8080/",
          "height": 34
        }
      },
      "cell_type": "code",
      "source": [
        "# Tuples are kind of like lists, except they are immutable.\n",
        "# Here are two points in 2-D.\n",
        "p1 = (1., 2.)\n",
        "p2 = (3.1, 3.2)\n",
        "# The useful thing with tuples is that they are easy to take apart.\n",
        "# Whereas a beginner would write\n",
        "x = p1[0]\n",
        "y = p1[1]\n",
        "print (x, y)\n"
      ],
      "execution_count": 0,
      "outputs": [
        {
          "output_type": "stream",
          "text": [
            "1.0 2.0\n"
          ],
          "name": "stdout"
        }
      ]
    },
    {
      "metadata": {
        "id": "0gfdrkwrfdho",
        "colab_type": "code",
        "outputId": "f463a590-2633-4f0d-8441-4cb8a3239f4b",
        "colab": {
          "base_uri": "https://localhost:8080/",
          "height": 34
        }
      },
      "cell_type": "code",
      "source": [
        "# anyone with a bit of Python experience would instead write: \n",
        "x, y = p1\n",
        "print(x, y)"
      ],
      "execution_count": 0,
      "outputs": [
        {
          "output_type": "stream",
          "text": [
            "1.0 2.0\n"
          ],
          "name": "stdout"
        }
      ]
    },
    {
      "metadata": {
        "id": "W4loQJ6eflCt",
        "colab_type": "code",
        "outputId": "acae2bff-ac9e-4268-b6e8-443cafa74809",
        "colab": {
          "base_uri": "https://localhost:8080/",
          "height": 102
        }
      },
      "cell_type": "code",
      "source": [
        "# Of course, the above works only if the tuple of variables on the left hand side\n",
        "# is the same length as the tuple on the right hand side!\n",
        "import traceback\n",
        "try:\n",
        "    x, y, z = p2\n",
        "except:\n",
        "    print(traceback.format_exc())"
      ],
      "execution_count": 0,
      "outputs": [
        {
          "output_type": "stream",
          "text": [
            "Traceback (most recent call last):\n",
            "  File \"<ipython-input-31-023e370181fb>\", line 3, in <module>\n",
            "    x, y, z = p2\n",
            "ValueError: not enough values to unpack (expected 3, got 2)\n",
            "\n"
          ],
          "name": "stdout"
        }
      ]
    },
    {
      "metadata": {
        "id": "K9VOU24Xfw9G",
        "colab_type": "code",
        "outputId": "5cec45a9-f7a1-400b-a7e5-b4f788df4319",
        "colab": {
          "base_uri": "https://localhost:8080/",
          "height": 34
        }
      },
      "cell_type": "code",
      "source": [
        "# If you don't care about a component, you can just use _\n",
        "x, _ = p1\n",
        "x"
      ],
      "execution_count": 0,
      "outputs": [
        {
          "output_type": "execute_result",
          "data": {
            "text/plain": [
              "1.0"
            ]
          },
          "metadata": {
            "tags": []
          },
          "execution_count": 33
        }
      ]
    },
    {
      "metadata": {
        "id": "xFAS-L5uZtff",
        "colab_type": "text"
      },
      "cell_type": "markdown",
      "source": [
        "## Strings"
      ]
    },
    {
      "metadata": {
        "id": "2zNELDI6Y4bi",
        "colab_type": "code",
        "colab": {}
      },
      "cell_type": "code",
      "source": [
        "# Strings can be built using either ' or \" as delimiters.\n",
        "# If you use ', the string can contain \" inside, and vice versa.\n",
        "s = 'A string'\n",
        "t = \"It's nice to be able to choose the delimiters\"\n"
      ],
      "execution_count": 0,
      "outputs": []
    },
    {
      "metadata": {
        "id": "xVCjndNn9N2f",
        "colab_type": "code",
        "outputId": "1d0e7ee7-1bb2-4110-c9c1-f5c928066b66",
        "colab": {
          "base_uri": "https://localhost:8080/",
          "height": 34
        }
      },
      "cell_type": "code",
      "source": [
        "# You can use + to concatenate strings:\n",
        "\n",
        "print(s + \" \" + t)"
      ],
      "execution_count": 0,
      "outputs": [
        {
          "output_type": "stream",
          "text": [
            "A string It's nice to be able to choose the delimiters\n"
          ],
          "name": "stdout"
        }
      ]
    },
    {
      "metadata": {
        "id": "h0vkoGrTZir7",
        "colab_type": "code",
        "outputId": "9b3629a4-ecd3-4eca-c5dc-412aff7bb2cf",
        "colab": {
          "base_uri": "https://localhost:8080/",
          "height": 34
        }
      },
      "cell_type": "code",
      "source": [
        "# You can split a string according to spaces:\n",
        "l = t.split()\n",
        "print(l)"
      ],
      "execution_count": 0,
      "outputs": [
        {
          "output_type": "stream",
          "text": [
            "[\"It's\", 'nice', 'to', 'be', 'able', 'to', 'choose', 'the', 'delimiters']\n"
          ],
          "name": "stdout"
        }
      ]
    },
    {
      "metadata": {
        "id": "uKE_8q0sZnvr",
        "colab_type": "code",
        "outputId": "b2ec165b-268f-4c3d-9b90-c25932a1ec05",
        "colab": {
          "base_uri": "https://localhost:8080/",
          "height": 34
        }
      },
      "cell_type": "code",
      "source": [
        "# Or you can split it according to any character:\n",
        "t.split('a')"
      ],
      "execution_count": 0,
      "outputs": [
        {
          "output_type": "execute_result",
          "data": {
            "text/plain": [
              "[\"It's nice to be \", 'ble to choose the delimiters']"
            ]
          },
          "metadata": {
            "tags": []
          },
          "execution_count": 135
        }
      ]
    },
    {
      "metadata": {
        "id": "eXtxIMy4E7v2",
        "colab_type": "code",
        "outputId": "b6b29e35-376a-4fe2-a83f-d90da3af9a61",
        "colab": {
          "base_uri": "https://localhost:8080/",
          "height": 34
        }
      },
      "cell_type": "code",
      "source": [
        "# You can also put back a string you have split, using .join()\n",
        "# Yes, it's weird; had I invented the .join operation, I would \n",
        "# have defined it as an operation of lists (rather than strings),\n",
        "# so that one would write l.join(' ') rather than ' '.join(l). \n",
        "# But once you learn it, you get used to it. \n",
        "' '.join(l)"
      ],
      "execution_count": 0,
      "outputs": [
        {
          "output_type": "execute_result",
          "data": {
            "text/plain": [
              "\"It's nice to be able to choose the delimiters\""
            ]
          },
          "metadata": {
            "tags": []
          },
          "execution_count": 136
        }
      ]
    },
    {
      "metadata": {
        "id": "dJ5gjcRHgnPh",
        "colab_type": "code",
        "outputId": "14ddf4b4-616e-4cbf-9a82-a1daf35b11c4",
        "colab": {
          "base_uri": "https://localhost:8080/",
          "height": 34
        }
      },
      "cell_type": "code",
      "source": [
        "# A string can also be addressed as if it were a list of its characters,\n",
        "# using indexing and slicing:\n",
        "t[10:]"
      ],
      "execution_count": 0,
      "outputs": [
        {
          "output_type": "execute_result",
          "data": {
            "text/plain": [
              "'to be able to choose the delimiters'"
            ]
          },
          "metadata": {
            "tags": []
          },
          "execution_count": 137
        }
      ]
    },
    {
      "metadata": {
        "id": "dfkOM18q-rX0",
        "colab_type": "text"
      },
      "cell_type": "markdown",
      "source": [
        "### Unicode and bytes"
      ]
    },
    {
      "metadata": {
        "id": "WV8XJG5t-uzR",
        "colab_type": "code",
        "outputId": "f5584b67-36ce-4ee2-98c3-131fcfa655aa",
        "colab": {
          "base_uri": "https://localhost:8080/",
          "height": 51
        }
      },
      "cell_type": "code",
      "source": [
        "# We have already seen strings.  Strings in Python 3 are not merely\n",
        "# sequence of bytes.  A byte would be able to encode only one of 256 characters,\n",
        "# and there are many more than 256 characters in world languages.\n",
        "# To allow people to write in their native languages, in Python 3, \n",
        "# strings consist of Unicode.\n",
        "s = \"Ouvrez la fenêtre, s'il vous plaît\"\n",
        "print(s)\n",
        "print(type(s))"
      ],
      "execution_count": 0,
      "outputs": [
        {
          "output_type": "stream",
          "text": [
            "Ouvrez la fenêtre, s'il vous plaît\n",
            "<class 'str'>\n"
          ],
          "name": "stdout"
        }
      ]
    },
    {
      "metadata": {
        "id": "xt2ZDsr8Bd5n",
        "colab_type": "code",
        "outputId": "967efa8f-45ce-4605-bda4-25186e777c0c",
        "colab": {
          "base_uri": "https://localhost:8080/",
          "height": 34
        }
      },
      "cell_type": "code",
      "source": [
        "# If you have a unicode string, you can \"encode\" its funny characters\n",
        "# (the non-standard ASCII characters) into a byte sequence, that is, a \n",
        "# (non-unicode) string.  Let's try it: \n",
        "bs = s.encode('utf8')\n",
        "print(type(bs))"
      ],
      "execution_count": 0,
      "outputs": [
        {
          "output_type": "stream",
          "text": [
            "<class 'bytes'>\n"
          ],
          "name": "stdout"
        }
      ]
    },
    {
      "metadata": {
        "id": "9ZM6mNvZBx-S",
        "colab_type": "code",
        "outputId": "9d66e63a-ad7b-47ad-842d-e1f0988146d9",
        "colab": {
          "base_uri": "https://localhost:8080/",
          "height": 34
        }
      },
      "cell_type": "code",
      "source": [
        "# The 'utf8' above specifies the 'encoding', that is, the way in which the\n",
        "# funny characters are encoded into bytes.  I will talk more about this later,\n",
        "# for now let's see what happened:\n",
        "print(bs)"
      ],
      "execution_count": 0,
      "outputs": [
        {
          "output_type": "stream",
          "text": [
            "b\"Ouvrez la fen\\xc3\\xaatre, s'il vous pla\\xc3\\xaet\"\n"
          ],
          "name": "stdout"
        }
      ]
    },
    {
      "metadata": {
        "id": "TZ5yC_4ZB_Nb",
        "colab_type": "code",
        "outputId": "47298efe-2a74-4376-a796-7539e57421d0",
        "colab": {
          "base_uri": "https://localhost:8080/",
          "height": 34
        }
      },
      "cell_type": "code",
      "source": [
        "# You see the beauty and power of Python 3?  How it turns our\n",
        "# request \"Ouvrez la fenêtre, s'il vous plaît\" into a beautiful\n",
        "# byte string?  Ah the beauty of computer science!  Oh the pinnacles of \n",
        "# accomplishment reached after centuries of striving! \n",
        "# You can go back from byte strings (denoted by the little 'b') \n",
        "# to unicode:\n",
        "ut = bs.decode('utf8')\n",
        "print(ut)"
      ],
      "execution_count": 0,
      "outputs": [
        {
          "output_type": "stream",
          "text": [
            "Ouvrez la fenêtre, s'il vous plaît\n"
          ],
          "name": "stdout"
        }
      ]
    },
    {
      "metadata": {
        "id": "5USQplRkCu2I",
        "colab_type": "code",
        "outputId": "28aee226-8439-4f25-c30d-40f6d100db50",
        "colab": {
          "base_uri": "https://localhost:8080/",
          "height": 34
        }
      },
      "cell_type": "code",
      "source": [
        "# Ok.  So basically, the same thing has two representations: one in \n",
        "# 'plain', unicode, and one in encoded form as a byte sequence.  \n",
        "# If you know an unicode code for a character, you can build a byte\n",
        "# sequence, and decode it to get the character in a string:\n",
        "bv = b\"Sleep well \\xe2\\x9d\\xa4\"\n",
        "print(bv.decode('utf8'))"
      ],
      "execution_count": 0,
      "outputs": [
        {
          "output_type": "stream",
          "text": [
            "Sleep well ❤\n"
          ],
          "name": "stdout"
        }
      ]
    },
    {
      "metadata": {
        "id": "Xs8bvPoHEPAl",
        "colab_type": "code",
        "colab": {}
      },
      "cell_type": "code",
      "source": [
        "# You see? The little heart was obtaining by decoding the hex sequence\n",
        "# of bytes e2, 9d, a4 into the graphical symbol corresponding to \n",
        "# that sequence, which happens to be a heart.  Cute eh? \n",
        "# One third of computer science is devoted to sending cute emojis to \n",
        "# loved ones.  And this is natural and good, as human are social beings.\n",
        "# Don't ask about the other two thirds. "
      ],
      "execution_count": 0,
      "outputs": []
    },
    {
      "metadata": {
        "id": "CuoT0dC1ErdX",
        "colab_type": "code",
        "outputId": "acd8995b-70d7-4a98-efa7-b796f1208bbb",
        "colab": {
          "base_uri": "https://localhost:8080/",
          "height": 51
        }
      },
      "cell_type": "code",
      "source": [
        "# Now, let's take a look at what we have done. \n",
        "# We can print the types of expressions: \n",
        "print(type(s))\n",
        "print(type(bs))\n"
      ],
      "execution_count": 0,
      "outputs": [
        {
          "output_type": "stream",
          "text": [
            "<class 'str'>\n",
            "<class 'bytes'>\n"
          ],
          "name": "stdout"
        }
      ]
    },
    {
      "metadata": {
        "id": "SxEaciS0GrGp",
        "colab_type": "code",
        "outputId": "7f91f9a3-c44d-4d04-a791-888db0d76cad",
        "colab": {
          "base_uri": "https://localhost:8080/",
          "height": 34
        }
      },
      "cell_type": "code",
      "source": [
        "# Now, this is all great.  Except for one thing.  You recall that 'utf8' in\n",
        "print(u\"I love you ❤\".encode('utf8'))"
      ],
      "execution_count": 0,
      "outputs": [
        {
          "output_type": "stream",
          "text": [
            "b'I love you \\xe2\\x9d\\xa4'\n"
          ],
          "name": "stdout"
        }
      ]
    },
    {
      "metadata": {
        "id": "29S2Yf4tG7k7",
        "colab_type": "code",
        "outputId": "e6dd5662-7fc9-4327-9093-42f4b8b502b6",
        "colab": {
          "base_uri": "https://localhost:8080/",
          "height": 51
        }
      },
      "cell_type": "code",
      "source": [
        "# What is that utf8?  Is is the table of correspondence between byte sequences\n",
        "# and symbols, the table associating in this case the little heart with \n",
        "# the byte sequence e2, 9d, a4.  The problem is that there is MORE than one\n",
        "# table of correspondence.  The idea of having more than one encoding strikes me\n",
        "# as downright asinine.  If one standard is good, then two standards are better, right?\n",
        "# Well, a mission to Mars was lost due to imperial to SI unit conversion, so apparently not.\n",
        "# The trouble is that with more than one such correspondence is that it matters:\n",
        "print(s.encode('iso-8859-1'))\n",
        "print(s.encode('utf-8'))"
      ],
      "execution_count": 0,
      "outputs": [
        {
          "output_type": "stream",
          "text": [
            "b\"Ouvrez la fen\\xeatre, s'il vous pla\\xeet\"\n",
            "b\"Ouvrez la fen\\xc3\\xaatre, s'il vous pla\\xc3\\xaet\"\n"
          ],
          "name": "stdout"
        }
      ]
    },
    {
      "metadata": {
        "id": "czpDmZL-JkPF",
        "colab_type": "code",
        "outputId": "21217421-3821-4382-a58a-8c5caf88db5a",
        "colab": {
          "base_uri": "https://localhost:8080/",
          "height": 34
        }
      },
      "cell_type": "code",
      "source": [
        "# So you need to know which encoding is used.  And the BIG trouble is that on the\n",
        "# internet, when somebody sends you a message, they often don't tell you which \n",
        "# encoding they are using, or often they simply lie or get it wrong. \n",
        "# It's one of those ideas that's supposed to be great in theory, but is \n",
        "# bad in practice.  So the sad truth is that you typically hope that\n",
        "# whoever sends you bytes (because bytes is all that can be sent over a wire)\n",
        "# either uses utf8, or tells you honestly the encoding. \n",
        "\n",
        "# Oh, the default in Python is utf-8, so you can omit it: \n",
        "bv.decode()"
      ],
      "execution_count": 0,
      "outputs": [
        {
          "output_type": "execute_result",
          "data": {
            "text/plain": [
              "'Sleep well ❤'"
            ]
          },
          "metadata": {
            "tags": []
          },
          "execution_count": 150
        }
      ]
    },
    {
      "metadata": {
        "id": "vC8nrCIjkg6f",
        "colab_type": "text"
      },
      "cell_type": "markdown",
      "source": [
        "### More on bytes"
      ]
    },
    {
      "metadata": {
        "id": "gyCdehO3kpaq",
        "colab_type": "code",
        "outputId": "b0161619-d351-4bcb-f311-42e403782b2d",
        "colab": {
          "base_uri": "https://localhost:8080/",
          "height": 34
        }
      },
      "cell_type": "code",
      "source": [
        "# The implementation of bytes in Python 3 suffers from some truly unfortunate\n",
        "# problems.  For instance, you can slice bytes just fine: \n",
        "bs[3:8]"
      ],
      "execution_count": 0,
      "outputs": [
        {
          "output_type": "execute_result",
          "data": {
            "text/plain": [
              "b'rez l'"
            ]
          },
          "metadata": {
            "tags": []
          },
          "execution_count": 153
        }
      ]
    },
    {
      "metadata": {
        "id": "Z-qLj0QllDiR",
        "colab_type": "code",
        "outputId": "93e937fc-20ee-4027-f1ed-ae0302dbfb49",
        "colab": {
          "base_uri": "https://localhost:8080/",
          "height": 34
        }
      },
      "cell_type": "code",
      "source": [
        "# But if you ask for a single byte, you get -- surprise! -- an integer!\n",
        "bs[3]"
      ],
      "execution_count": 0,
      "outputs": [
        {
          "output_type": "execute_result",
          "data": {
            "text/plain": [
              "114"
            ]
          },
          "metadata": {
            "tags": []
          },
          "execution_count": 155
        }
      ]
    },
    {
      "metadata": {
        "id": "-CSjKsBMlNHm",
        "colab_type": "code",
        "colab": {}
      },
      "cell_type": "code",
      "source": [
        "# This is a truly poor design choice: in no other case is the type of slice \n",
        "# elements different from the type of individually-indexed elements."
      ],
      "execution_count": 0,
      "outputs": []
    },
    {
      "metadata": {
        "id": "IyTNBT8sh-UE",
        "colab_type": "text"
      },
      "cell_type": "markdown",
      "source": [
        "## Dictionaries\n"
      ]
    },
    {
      "metadata": {
        "id": "MQXjLViBgx7T",
        "colab_type": "code",
        "colab": {}
      },
      "cell_type": "code",
      "source": [
        "# Dictionaries in Python are essentially maps between sets, or, one-to-many functions. \n",
        "# Or if you are in CS, they are like hash tables.  In fact, turns out they are hash tables.\n",
        "# Except you don't need to worry about their implementation. \n",
        "# Enough said, let's define one.\n",
        "n_of_paws = {'cat': 4, 'fish': 0, 'bird': 2, 'snake': 0}"
      ],
      "execution_count": 0,
      "outputs": []
    },
    {
      "metadata": {
        "id": "cQmzw2CwiTP-",
        "colab_type": "code",
        "outputId": "ce4667b3-6a0e-4f1e-ab93-62c72780310e",
        "colab": {
          "base_uri": "https://localhost:8080/",
          "height": 34
        }
      },
      "cell_type": "code",
      "source": [
        "# Dictionaries can be indexed with [] notation like list indexing, \n",
        "# except they are indexed by their \"keys\", not by integers.\n",
        "n_of_paws['fish']"
      ],
      "execution_count": 0,
      "outputs": [
        {
          "output_type": "execute_result",
          "data": {
            "text/plain": [
              "0"
            ]
          },
          "metadata": {
            "tags": []
          },
          "execution_count": 175
        }
      ]
    },
    {
      "metadata": {
        "id": "conzHq0cxigR",
        "colab_type": "code",
        "outputId": "31680de1-60d2-47bb-fa27-cd7d610eef96",
        "colab": {
          "base_uri": "https://localhost:8080/",
          "height": 34
        }
      },
      "cell_type": "code",
      "source": [
        "# You can also build a dictionary like this:\n",
        "d = dict(dog=4, cat=4, bird=2, fish=0)\n",
        "# Of course, the keys need to be variable names...\n",
        "d"
      ],
      "execution_count": 0,
      "outputs": [
        {
          "output_type": "execute_result",
          "data": {
            "text/plain": [
              "{'bird': 2, 'cat': 4, 'dog': 4, 'fish': 0}"
            ]
          },
          "metadata": {
            "tags": []
          },
          "execution_count": 176
        }
      ]
    },
    {
      "metadata": {
        "id": "BL4F480njCHe",
        "colab_type": "code",
        "outputId": "51275c6b-f223-4528-8e39-3ff5c85fb964",
        "colab": {
          "base_uri": "https://localhost:8080/",
          "height": 51
        }
      },
      "cell_type": "code",
      "source": [
        "# If you are not sure whether a key is in the dictionary, you can use .get() \n",
        "# rather than []:\n",
        "print(n_of_paws.get('fish'))\n",
        "print(n_of_paws.get('elephant'))"
      ],
      "execution_count": 0,
      "outputs": [
        {
          "output_type": "stream",
          "text": [
            "0\n",
            "None\n"
          ],
          "name": "stdout"
        }
      ]
    },
    {
      "metadata": {
        "id": "yFPoZI56i4w7",
        "colab_type": "code",
        "outputId": "39c9ca7e-a38f-431b-b944-c5e4d40ee14a",
        "colab": {
          "base_uri": "https://localhost:8080/",
          "height": 51
        }
      },
      "cell_type": "code",
      "source": [
        "# You can check whehter something is in a dictionary with the 'in' operator:\n",
        "print(\"elephant\" in n_of_paws)\n",
        "print(\"cat\" in n_of_paws)"
      ],
      "execution_count": 0,
      "outputs": [
        {
          "output_type": "stream",
          "text": [
            "False\n",
            "True\n"
          ],
          "name": "stdout"
        }
      ]
    },
    {
      "metadata": {
        "id": "qfGktFTkO9Sj",
        "colab_type": "code",
        "outputId": "c0358617-8a6b-4e51-cb3b-22be9418dc7a",
        "colab": {
          "base_uri": "https://localhost:8080/",
          "height": 51
        }
      },
      "cell_type": "code",
      "source": [
        "# Let's define a dictionary mapping names to nicknames,\n",
        "# and let's define a function that, given a name, \n",
        "# returns the nickname, if there is one, and otherwise the name. \n",
        "nicks = {'Robert': 'Rob', 'Alexander': 'Alex'}\n",
        "\n",
        "def to_nick(n):\n",
        "    nn = nicks.get(n)\n",
        "    # Below, we are using an in-line conditional; more on this later. \n",
        "    return n if nn is None else nn\n",
        "\n",
        "print(to_nick('Robert'))\n",
        "print(to_nick('Helen'))"
      ],
      "execution_count": 0,
      "outputs": [
        {
          "output_type": "stream",
          "text": [
            "Rob\n",
            "Helen\n"
          ],
          "name": "stdout"
        }
      ]
    },
    {
      "metadata": {
        "id": "Kf5rzCAxlhof",
        "colab_type": "code",
        "colab": {}
      },
      "cell_type": "code",
      "source": [
        "# This also shows why None is so useful.\n",
        "# Let's do another example.  Suppose you are given a list of animals.\n",
        "animals = ['pig', 'donkey', 'chicken', 'cat', 'dog', 'snake']"
      ],
      "execution_count": 0,
      "outputs": []
    },
    {
      "metadata": {
        "id": "BIP3KG6Vlkfy",
        "colab_type": "code",
        "outputId": "aa0bb3ad-576f-4ae4-b505-029f7ef02454",
        "colab": {
          "base_uri": "https://localhost:8080/",
          "height": 34
        }
      },
      "cell_type": "code",
      "source": [
        "# Now you want to build a second list, containing the number of paws of each.\n",
        "my_paws = [n_of_paws.get(a) for a in animals]\n",
        "my_paws"
      ],
      "execution_count": 0,
      "outputs": [
        {
          "output_type": "execute_result",
          "data": {
            "text/plain": [
              "[None, None, None, 4, None, 0]"
            ]
          },
          "metadata": {
            "tags": []
          },
          "execution_count": 181
        }
      ]
    },
    {
      "metadata": {
        "id": "rvyZ-Pegu2Uu",
        "colab_type": "text"
      },
      "cell_type": "markdown",
      "source": [
        "#### Dictionary keys, values, and key-value pairs"
      ]
    },
    {
      "metadata": {
        "id": "xyz8v8q2ieNJ",
        "colab_type": "code",
        "outputId": "88270ea7-4978-4979-9574-39f48dfa11a1",
        "colab": {
          "base_uri": "https://localhost:8080/",
          "height": 34
        }
      },
      "cell_type": "code",
      "source": [
        "# You can ask for the list of keys of a dictionary:\n",
        "n_of_paws.keys()"
      ],
      "execution_count": 0,
      "outputs": [
        {
          "output_type": "execute_result",
          "data": {
            "text/plain": [
              "dict_keys(['cat', 'fish', 'bird', 'snake'])"
            ]
          },
          "metadata": {
            "tags": []
          },
          "execution_count": 182
        }
      ]
    },
    {
      "metadata": {
        "id": "PfqWIsFvpWP0",
        "colab_type": "code",
        "outputId": "46ac05f5-c129-49e9-e659-da04d10ebcb0",
        "colab": {
          "base_uri": "https://localhost:8080/",
          "height": 51
        }
      },
      "cell_type": "code",
      "source": [
        "# What's that dict_keys(...) thing?  It turns out that in Python 3,\n",
        "# keys() returns a _view_ over the dictionary keys.  The view is dynamically\n",
        "# updated to reflect changes in the underlying dictionary:\n",
        "the_keys = n_of_paws.keys()\n",
        "print(the_keys)\n",
        "n_of_paws['ant'] = 6 # with apologies to entimologists...\n",
        "print(the_keys)"
      ],
      "execution_count": 0,
      "outputs": [
        {
          "output_type": "stream",
          "text": [
            "dict_keys(['cat', 'fish', 'bird', 'snake'])\n",
            "dict_keys(['cat', 'fish', 'bird', 'snake', 'ant'])\n"
          ],
          "name": "stdout"
        }
      ]
    },
    {
      "metadata": {
        "id": "-pg2Ebh9qRjs",
        "colab_type": "text"
      },
      "cell_type": "markdown",
      "source": [
        "For more on views, see e.g. https://docs.python.org/3/library/stdtypes.html#dict-views\n",
        "\n"
      ]
    },
    {
      "metadata": {
        "id": "qtvQ2m16sHbE",
        "colab_type": "code",
        "colab": {}
      },
      "cell_type": "code",
      "source": [
        "# Now, if you ask me, this is a very bad idea.  It was much better \n",
        "# in Python 2, where keys() returned a good old list.  \n",
        "\n",
        "# The trouble with keys() returning a view is that the notion of view creates \n",
        "# a concealed dependency between two distinct variables: in our case, \n",
        "# the dictionary n_of_paws and the variable the_keys.  \n",
        "# Concealed dependencies are an common source of errors in programs, \n",
        "# and I regard the fact that keys() returns a variable view as a rather \n",
        "# misguided design decision.\n",
        "\n",
        "# I think the idea in returning a view is that they wanted to save space on \n",
        "# the explicit creation of a list, but then, they should have made keys() \n",
        "# return an *immutable, constant* list, not a variable one! "
      ],
      "execution_count": 0,
      "outputs": []
    },
    {
      "metadata": {
        "id": "bgSaV7nFrdcp",
        "colab_type": "code",
        "outputId": "7a22c5e0-bce6-4f65-bd99-d4149210d3af",
        "colab": {
          "base_uri": "https://localhost:8080/",
          "height": 102
        }
      },
      "cell_type": "code",
      "source": [
        "# The view is fine for iterating over it (we will cover iteration in more\n",
        "# detail later):\n",
        "for k in n_of_paws.keys():\n",
        "    print(\"I have a key: \", k)"
      ],
      "execution_count": 0,
      "outputs": [
        {
          "output_type": "stream",
          "text": [
            "I have a key:  cat\n",
            "I have a key:  fish\n",
            "I have a key:  bird\n",
            "I have a key:  snake\n",
            "I have a key:  ant\n"
          ],
          "name": "stdout"
        }
      ]
    },
    {
      "metadata": {
        "id": "bmXk06zur0vw",
        "colab_type": "code",
        "outputId": "990e7d36-9e5d-46f1-9f22-4f92efbd05f4",
        "colab": {
          "base_uri": "https://localhost:8080/",
          "height": 51
        }
      },
      "cell_type": "code",
      "source": [
        "# But do yourself a favor, and unless you are super sure of what you are \n",
        "# doing (and I would argue, even if you think you are), never assign views\n",
        "# to variables; convert them first to standard lists in order to remove\n",
        "# the concealed dependency:\n",
        "my_keys = list(n_of_paws.keys())\n",
        "print(my_keys)\n",
        "n_of_paws['centipede'] = 30 # True for some centipedes\n",
        "print(my_keys) "
      ],
      "execution_count": 0,
      "outputs": [
        {
          "output_type": "stream",
          "text": [
            "['cat', 'fish', 'bird', 'snake', 'ant']\n",
            "['cat', 'fish', 'bird', 'snake', 'ant']\n"
          ],
          "name": "stdout"
        }
      ]
    },
    {
      "metadata": {
        "id": "mjnGwK4lijCi",
        "colab_type": "code",
        "outputId": "94f6f11d-e569-4dec-b8ee-4352f52817a0",
        "colab": {
          "base_uri": "https://localhost:8080/",
          "height": 34
        }
      },
      "cell_type": "code",
      "source": [
        "# In addition to .keys(), you can also use .values() for the values,\n",
        "# with the same caveat about the view having a concealed dependency:\n",
        "n_of_paws.values()"
      ],
      "execution_count": 0,
      "outputs": [
        {
          "output_type": "execute_result",
          "data": {
            "text/plain": [
              "dict_values([4, 0, 2, 0, 6, 30])"
            ]
          },
          "metadata": {
            "tags": []
          },
          "execution_count": 187
        }
      ]
    },
    {
      "metadata": {
        "id": "ectytnryiq3f",
        "colab_type": "code",
        "outputId": "de943537-4ce4-487e-f044-ad0b2a5a93ff",
        "colab": {
          "base_uri": "https://localhost:8080/",
          "height": 119
        }
      },
      "cell_type": "code",
      "source": [
        "# Much more useful is to have the list of (key, value) pairs.\n",
        "# It's a view list of tuples, in case you are wondering.\n",
        "list(n_of_paws.items())"
      ],
      "execution_count": 0,
      "outputs": [
        {
          "output_type": "execute_result",
          "data": {
            "text/plain": [
              "[('cat', 4),\n",
              " ('fish', 0),\n",
              " ('bird', 2),\n",
              " ('snake', 0),\n",
              " ('ant', 6),\n",
              " ('centipede', 30)]"
            ]
          },
          "metadata": {
            "tags": []
          },
          "execution_count": 188
        }
      ]
    },
    {
      "metadata": {
        "id": "9aYfZ54rxDWy",
        "colab_type": "code",
        "outputId": "7aa06e24-d70f-40f5-89ff-6048421bcbe2",
        "colab": {
          "base_uri": "https://localhost:8080/",
          "height": 119
        }
      },
      "cell_type": "code",
      "source": [
        "# Hmm, we don't know it for all animals.  And also, I would like a dictionary. \n",
        "# Let's fix the dictionary thing first. \n",
        "my_paws = {a : n_of_paws.get(a) for a in animals}\n",
        "my_paws"
      ],
      "execution_count": 0,
      "outputs": [
        {
          "output_type": "execute_result",
          "data": {
            "text/plain": [
              "{'cat': 4,\n",
              " 'chicken': None,\n",
              " 'dog': None,\n",
              " 'donkey': None,\n",
              " 'pig': None,\n",
              " 'snake': 0}"
            ]
          },
          "metadata": {
            "tags": []
          },
          "execution_count": 189
        }
      ]
    },
    {
      "metadata": {
        "id": "RciSI3jJuU31",
        "colab_type": "code",
        "outputId": "c1e2601a-3b01-4ba9-8beb-574c8eb2b953",
        "colab": {
          "base_uri": "https://localhost:8080/",
          "height": 34
        }
      },
      "cell_type": "code",
      "source": [
        "# What we did above is a dictionary comprehension.\n",
        "# It works similarly to a string comprehension, but uses the syntax {k: d for ...}\n",
        "# to build the dictionary.  \n",
        "\n",
        "# What if you want in the dictionary only things that do not map to None?\n",
        "# You can add an if clause to the comprehension.\n",
        "my_known_paws = {a : n_of_paws.get(a) for a in animals if a in n_of_paws}\n",
        "my_known_paws"
      ],
      "execution_count": 0,
      "outputs": [
        {
          "output_type": "execute_result",
          "data": {
            "text/plain": [
              "{'cat': 4, 'snake': 0}"
            ]
          },
          "metadata": {
            "tags": []
          },
          "execution_count": 191
        }
      ]
    },
    {
      "metadata": {
        "id": "vJRPmYzsurwd",
        "colab_type": "code",
        "colab": {}
      },
      "cell_type": "code",
      "source": [
        "# As you might start to guess, the national sport in Python consists in doing\n",
        "# as much as possible in a single line.  Concise code leads to concise thinking\n",
        "# and understanding."
      ],
      "execution_count": 0,
      "outputs": []
    },
    {
      "metadata": {
        "id": "8USdvrcJvk9n",
        "colab_type": "text"
      },
      "cell_type": "markdown",
      "source": [
        "## Sets"
      ]
    },
    {
      "metadata": {
        "id": "I4fH86tXQOHh",
        "colab_type": "code",
        "outputId": "95ac9315-9958-41c4-a7d7-1e3bc60b8b98",
        "colab": {
          "base_uri": "https://localhost:8080/",
          "height": 34
        }
      },
      "cell_type": "code",
      "source": [
        "# Sets are data structures that represent... sets.  Sets are like lists, \n",
        "# except that they cannot have repeated elements.\n",
        "s = set() # {} would be a dictionary... \n",
        "print(s)"
      ],
      "execution_count": 0,
      "outputs": [
        {
          "output_type": "stream",
          "text": [
            "set()\n"
          ],
          "name": "stdout"
        }
      ]
    },
    {
      "metadata": {
        "id": "qn2s3Cd42bmp",
        "colab_type": "code",
        "colab": {}
      },
      "cell_type": "code",
      "source": [
        "set1 = {'cat', 'dog'}\n",
        "set2 = {'bird', 'mouse', 'cat'}\n",
        "set3 = {'dog', 'cat'}"
      ],
      "execution_count": 0,
      "outputs": []
    },
    {
      "metadata": {
        "id": "Xr5tRiD32sCE",
        "colab_type": "code",
        "outputId": "aa060662-44c1-4403-d03d-bd7325aa0f07",
        "colab": {
          "base_uri": "https://localhost:8080/",
          "height": 68
        }
      },
      "cell_type": "code",
      "source": [
        "# We can take union, intersection, and difference of sets:\n",
        "print(set1 | set2) # union\n",
        "print(set1 & set2) # intersection\n",
        "print(set1 - set2) # difference"
      ],
      "execution_count": 0,
      "outputs": [
        {
          "output_type": "stream",
          "text": [
            "{'bird', 'mouse', 'cat', 'dog'}\n",
            "{'cat'}\n",
            "{'dog'}\n"
          ],
          "name": "stdout"
        }
      ]
    },
    {
      "metadata": {
        "id": "PIO500l13Ws4",
        "colab_type": "code",
        "outputId": "1c6073bd-053a-4922-c38c-9f4398222f3b",
        "colab": {
          "base_uri": "https://localhost:8080/",
          "height": 34
        }
      },
      "cell_type": "code",
      "source": [
        "# Set equality is defined as element-wise equality\n",
        "# (order does not matter)\n",
        "set1 == set3"
      ],
      "execution_count": 0,
      "outputs": [
        {
          "output_type": "execute_result",
          "data": {
            "text/plain": [
              "True"
            ]
          },
          "metadata": {
            "tags": []
          },
          "execution_count": 38
        }
      ]
    },
    {
      "metadata": {
        "id": "u_9zfkUO3CPX",
        "colab_type": "code",
        "outputId": "678c6358-c6b1-4cb2-b16f-0df0da551312",
        "colab": {
          "base_uri": "https://localhost:8080/",
          "height": 51
        }
      },
      "cell_type": "code",
      "source": [
        "# We can add elements to a set... \n",
        "set1.add('duck')\n",
        "print(set1)\n",
        "set1.add('dog')\n",
        "print(set1)\n",
        "# ... and as you can see, sets really have no repeated elements,\n",
        "# so if you add a dog to a set containing already a dog, \n",
        "# nothing changes."
      ],
      "execution_count": 0,
      "outputs": [
        {
          "output_type": "stream",
          "text": [
            "{'duck', 'cat', 'dog'}\n",
            "{'duck', 'cat', 'dog'}\n"
          ],
          "name": "stdout"
        }
      ]
    },
    {
      "metadata": {
        "id": "cDPz2PAG4-72",
        "colab_type": "code",
        "outputId": "a9b2368b-453f-475f-862b-31281fd62d47",
        "colab": {
          "base_uri": "https://localhost:8080/",
          "height": 51
        }
      },
      "cell_type": "code",
      "source": [
        "# And we can test membership using \"in\", just like for lists.\n",
        "print('cat' in set1)\n",
        "print('opossum' in set1)"
      ],
      "execution_count": 0,
      "outputs": [
        {
          "output_type": "stream",
          "text": [
            "True\n",
            "False\n"
          ],
          "name": "stdout"
        }
      ]
    },
    {
      "metadata": {
        "id": "pgEPm8WW4Gpl",
        "colab_type": "code",
        "outputId": "a0993159-1914-43f9-baff-56572357d04c",
        "colab": {
          "base_uri": "https://localhost:8080/",
          "height": 34
        }
      },
      "cell_type": "code",
      "source": [
        "# A quick way to remove duplicates from a list is to turn it \n",
        "# into a set, then back into the list.  This loses the ordering though,\n",
        "# as sets do not preserve the order of the elements of the lists\n",
        "# from which they were created:\n",
        "l = ['a', 'b', 'c', 'g', 'c', 'd', 'f', 'g']\n",
        "l_uniq = list(set(l))\n",
        "l_uniq\n"
      ],
      "execution_count": 0,
      "outputs": [
        {
          "output_type": "execute_result",
          "data": {
            "text/plain": [
              "['c', 'd', 'g', 'a', 'b', 'f']"
            ]
          },
          "metadata": {
            "tags": []
          },
          "execution_count": 44
        }
      ]
    },
    {
      "metadata": {
        "id": "lG3s2te_4d0x",
        "colab_type": "code",
        "outputId": "b1624815-38fc-4a5f-c439-99e845163fc8",
        "colab": {
          "base_uri": "https://localhost:8080/",
          "height": 34
        }
      },
      "cell_type": "code",
      "source": [
        "# If you want to preserve the ordering, then you can use iteration\n",
        "# (covered later) and do as follows:\n",
        "l_uniq = [] # list\n",
        "occurrences = set() # set\n",
        "for s in l:\n",
        "    if s not in occurrences:\n",
        "        l_uniq.append(s) # list append\n",
        "        occurrences.add(s) # set add\n",
        "l_uniq"
      ],
      "execution_count": 0,
      "outputs": [
        {
          "output_type": "execute_result",
          "data": {
            "text/plain": [
              "['a', 'b', 'c', 'g', 'd', 'f']"
            ]
          },
          "metadata": {
            "tags": []
          },
          "execution_count": 41
        }
      ]
    },
    {
      "metadata": {
        "id": "PNT4q5Ks7v79",
        "colab_type": "text"
      },
      "cell_type": "markdown",
      "source": [
        "## Conditionals"
      ]
    },
    {
      "metadata": {
        "id": "SVoA-VsT7ys_",
        "colab_type": "code",
        "outputId": "66bdbd66-efd9-477b-baa7-37c95ed01d34",
        "colab": {
          "base_uri": "https://localhost:8080/",
          "height": 34
        }
      },
      "cell_type": "code",
      "source": [
        "# You can build boolean expressions with the usual relational operators\n",
        "# <, <=, >, >=, ==, and !=. \n",
        "3 < 4"
      ],
      "execution_count": 0,
      "outputs": [
        {
          "output_type": "execute_result",
          "data": {
            "text/plain": [
              "True"
            ]
          },
          "metadata": {
            "tags": []
          },
          "execution_count": 46
        }
      ]
    },
    {
      "metadata": {
        "id": "9Fvh8i1178HH",
        "colab_type": "code",
        "outputId": "969ca5ad-2b52-4206-c2d3-65947a5e58af",
        "colab": {
          "base_uri": "https://localhost:8080/",
          "height": 51
        }
      },
      "cell_type": "code",
      "source": [
        "# There are also other operators.  One is \"in\", to test membership \n",
        "# in lists or dictionaries or sets or strings: \n",
        "print('a' in ['a', 'b', 'c'])\n",
        "print('a' in 'hello my dear')"
      ],
      "execution_count": 0,
      "outputs": [
        {
          "output_type": "stream",
          "text": [
            "True\n",
            "True\n"
          ],
          "name": "stdout"
        }
      ]
    },
    {
      "metadata": {
        "id": "RfhvJmk38PdR",
        "colab_type": "code",
        "outputId": "2132ffc7-a930-4c65-9c3f-5e8a1dd9e013",
        "colab": {
          "base_uri": "https://localhost:8080/",
          "height": 34
        }
      },
      "cell_type": "code",
      "source": [
        "# Another one is \"is\" and \"is not\", to check whether two things are identical, \n",
        "# most often used for None.  Here's one way of removing None elements from a\n",
        "# list, preserving order:\n",
        "[a for a in [1, 2, 3, None, 4] if a is not None]"
      ],
      "execution_count": 0,
      "outputs": [
        {
          "output_type": "execute_result",
          "data": {
            "text/plain": [
              "[1, 2, 3, 4]"
            ]
          },
          "metadata": {
            "tags": []
          },
          "execution_count": 50
        }
      ]
    },
    {
      "metadata": {
        "id": "RDIMwV2K8flt",
        "colab_type": "code",
        "outputId": "a9589985-1741-41d5-d858-bbb2a2ae8c2e",
        "colab": {
          "base_uri": "https://localhost:8080/",
          "height": 357
        }
      },
      "cell_type": "code",
      "source": [
        "# The if is expressed via if / elif / else:\n",
        "for x in range(10):\n",
        "    if x % 2 == 0: # The % is the modulus operator.\n",
        "        print(x, \"is even\")\n",
        "    else:\n",
        "        print(x, \"is odd\")\n",
        "    if x % 3 == 0:\n",
        "        print(x, \"is multiple of 3\")\n",
        "    elif x % 3 == 1:\n",
        "        print(x, \"is 1 above a multiple of 3\")\n",
        "    else:\n",
        "        print(x, \"is 1 below a multiple of 3\")"
      ],
      "execution_count": 0,
      "outputs": [
        {
          "output_type": "stream",
          "text": [
            "0 is even\n",
            "0 is multiple of 3\n",
            "1 is odd\n",
            "1 is 1 above a multiple of 3\n",
            "2 is even\n",
            "2 is 1 below a multiple of 3\n",
            "3 is odd\n",
            "3 is multiple of 3\n",
            "4 is even\n",
            "4 is 1 above a multiple of 3\n",
            "5 is odd\n",
            "5 is 1 below a multiple of 3\n",
            "6 is even\n",
            "6 is multiple of 3\n",
            "7 is odd\n",
            "7 is 1 above a multiple of 3\n",
            "8 is even\n",
            "8 is 1 below a multiple of 3\n",
            "9 is odd\n",
            "9 is multiple of 3\n"
          ],
          "name": "stdout"
        }
      ]
    },
    {
      "metadata": {
        "id": "oI5OLlZT9L9d",
        "colab_type": "code",
        "outputId": "6cc10803-fba7-47c2-e962-66670c01e6eb",
        "colab": {
          "base_uri": "https://localhost:8080/",
          "height": 34
        }
      },
      "cell_type": "code",
      "source": [
        "# If / then / else can be used also as an expression, using the following syntax:\n",
        "x = 3\n",
        "y = x + 1 if x % 2 == 0 else x + 2\n",
        "print(y)"
      ],
      "execution_count": 0,
      "outputs": [
        {
          "output_type": "stream",
          "text": [
            "5\n"
          ],
          "name": "stdout"
        }
      ]
    },
    {
      "metadata": {
        "id": "y-Hx6dEd9dzT",
        "colab_type": "code",
        "outputId": "60ed8eae-0126-41d4-cf21-8096ca1fd817",
        "colab": {
          "base_uri": "https://localhost:8080/",
          "height": 34
        }
      },
      "cell_type": "code",
      "source": [
        "# This can be very handy in list comprehensions.\n",
        "[x if x % 2 == 0 else - x for x in range(10)]"
      ],
      "execution_count": 0,
      "outputs": [
        {
          "output_type": "execute_result",
          "data": {
            "text/plain": [
              "[0, -1, 2, -3, 4, -5, 6, -7, 8, -9]"
            ]
          },
          "metadata": {
            "tags": []
          },
          "execution_count": 56
        }
      ]
    },
    {
      "metadata": {
        "id": "xNpgmyOd0gHR",
        "colab_type": "text"
      },
      "cell_type": "markdown",
      "source": [
        "## Iteration"
      ]
    },
    {
      "metadata": {
        "id": "mva7sbs-y7lR",
        "colab_type": "code",
        "outputId": "d92319e0-1cbb-4049-a722-8a5f68b09fc7",
        "colab": {
          "base_uri": "https://localhost:8080/",
          "height": 187
        }
      },
      "cell_type": "code",
      "source": [
        "# In old poor languages like Fortran and C, when you iterate, you have to \n",
        "# have a counter, increment it, and all that stuff.  Yeech. \n",
        "# Not so in Python.  You iterate over something that is iterable, that is, \n",
        "# that has (or can produce) a sequence of elements.  Like... a list! \n",
        "my_words = \"I like to eat pizza with anchovies, I actually do!\".split()\n",
        "for w in my_words:\n",
        "    print(\"My word is:\", w)"
      ],
      "execution_count": 0,
      "outputs": [
        {
          "output_type": "stream",
          "text": [
            "My word is: I\n",
            "My word is: like\n",
            "My word is: to\n",
            "My word is: eat\n",
            "My word is: pizza\n",
            "My word is: with\n",
            "My word is: anchovies,\n",
            "My word is: I\n",
            "My word is: actually\n",
            "My word is: do!\n"
          ],
          "name": "stdout"
        }
      ]
    },
    {
      "metadata": {
        "id": "TVSICPjF1MHt",
        "colab_type": "code",
        "outputId": "01983f0f-9147-4b0b-c704-3fa56fd3b2f0",
        "colab": {
          "base_uri": "https://localhost:8080/",
          "height": 187
        }
      },
      "cell_type": "code",
      "source": [
        "# You can also iterate over pairs, consisting of the element index and the list element:\n",
        "for i, w in enumerate(my_words):\n",
        "    print(\"The word number\", i, \"is:\", w)"
      ],
      "execution_count": 0,
      "outputs": [
        {
          "output_type": "stream",
          "text": [
            "The word number 0 is: I\n",
            "The word number 1 is: like\n",
            "The word number 2 is: to\n",
            "The word number 3 is: eat\n",
            "The word number 4 is: pizza\n",
            "The word number 5 is: with\n",
            "The word number 6 is: anchovies,\n",
            "The word number 7 is: I\n",
            "The word number 8 is: actually\n",
            "The word number 9 is: do!\n"
          ],
          "name": "stdout"
        }
      ]
    },
    {
      "metadata": {
        "id": "pRbVD4DT1aEI",
        "colab_type": "code",
        "outputId": "6a6a15a0-4ff9-45da-f926-cf5d44d818ff",
        "colab": {
          "base_uri": "https://localhost:8080/",
          "height": 153
        }
      },
      "cell_type": "code",
      "source": [
        "# If you get tired of iteration, you can break out of it: \n",
        "for w in my_words:\n",
        "    print(w)\n",
        "    if w.startswith('anchovies'):\n",
        "        print(\"   Indeed, they are delicious, no need to say more!\")\n",
        "        break"
      ],
      "execution_count": 0,
      "outputs": [
        {
          "output_type": "stream",
          "text": [
            "I\n",
            "like\n",
            "to\n",
            "eat\n",
            "pizza\n",
            "with\n",
            "anchovies,\n",
            "   Indeed, they are delicious, no need to say more!\n"
          ],
          "name": "stdout"
        }
      ]
    },
    {
      "metadata": {
        "id": "9wtkml541jVB",
        "colab_type": "code",
        "outputId": "c7a8d2cd-d1e7-4fca-b72f-df91602a2c2e",
        "colab": {
          "base_uri": "https://localhost:8080/",
          "height": 187
        }
      },
      "cell_type": "code",
      "source": [
        "# And if you need to iterate over indices, like you used to do in C? \n",
        "# Well, you just create... a list of indices! \n",
        "for i in range(10):\n",
        "    print(\"My integer is:\", i)"
      ],
      "execution_count": 0,
      "outputs": [
        {
          "output_type": "stream",
          "text": [
            "My integer is: 0\n",
            "My integer is: 1\n",
            "My integer is: 2\n",
            "My integer is: 3\n",
            "My integer is: 4\n",
            "My integer is: 5\n",
            "My integer is: 6\n",
            "My integer is: 7\n",
            "My integer is: 8\n",
            "My integer is: 9\n"
          ],
          "name": "stdout"
        }
      ]
    },
    {
      "metadata": {
        "id": "7qnNcRmX7MFY",
        "colab_type": "code",
        "outputId": "ad08488d-6c34-4575-ff3e-4a23e8a0ad6e",
        "colab": {
          "base_uri": "https://localhost:8080/",
          "height": 34
        }
      },
      "cell_type": "code",
      "source": [
        "# Well, range(...) gives a list in Python 2.  In Python 3, it gives \n",
        "# an iterator, that will let you iterate on the numbers in the given \n",
        "# range.  The point is that if you want to do a billion iterations, \n",
        "# you may not want to build a list of a billion elements (and possibly\n",
        "# run out of memory!). \n",
        "print(range(1, 10000000000))"
      ],
      "execution_count": 0,
      "outputs": [
        {
          "output_type": "stream",
          "text": [
            "range(1, 10000000000)\n"
          ],
          "name": "stdout"
        }
      ]
    },
    {
      "metadata": {
        "id": "LhzuMNq62FXn",
        "colab_type": "code",
        "outputId": "b4165c06-e531-4e93-b3dd-759d84fb0a11",
        "colab": {
          "base_uri": "https://localhost:8080/",
          "height": 102
        }
      },
      "cell_type": "code",
      "source": [
        "# Note that you can also iterate on list slices:\n",
        "for w in my_words[:5]:\n",
        "    print(w)"
      ],
      "execution_count": 0,
      "outputs": [
        {
          "output_type": "stream",
          "text": [
            "I\n",
            "like\n",
            "to\n",
            "eat\n",
            "pizza\n"
          ],
          "name": "stdout"
        }
      ]
    },
    {
      "metadata": {
        "id": "rLJGUjp22xL5",
        "colab_type": "text"
      },
      "cell_type": "markdown",
      "source": [
        "Oh btw, did you notice that we are using indentation rather than those \n",
        "pesky { } ?  Some people think it's silly, a throwback to Fortran and \n",
        "punched cards.  I think it's brilliant.  See, in C or Java you have \n",
        "two things: the real structure of the code (indicated by braces) and the illustrated structure (indicated by indentation).  The problem with this is that sometimes indentation and braces they differ, and when they do, the visual indication is fallacious.  In Python, the visual indication is also the structural one, and is always truthful. \n",
        "\n",
        "I am sure you prefer this to a language where there is only structure and no visuals! "
      ]
    },
    {
      "metadata": {
        "id": "05zZ65Yc2Vej",
        "colab_type": "code",
        "outputId": "02754fb4-e872-4423-e059-5f61a89340a4",
        "colab": {
          "base_uri": "https://localhost:8080/",
          "height": 119
        }
      },
      "cell_type": "code",
      "source": [
        "# If you have a dictionary, you can iterate on it like this. \n",
        "# On keys only (because .keys() returns a view over the keys):\n",
        "for k in n_of_paws.keys():\n",
        "    print (\"I have a\", k)\n"
      ],
      "execution_count": 0,
      "outputs": [
        {
          "output_type": "stream",
          "text": [
            "I have a cat\n",
            "I have a fish\n",
            "I have a bird\n",
            "I have a snake\n",
            "I have a ant\n",
            "I have a centipede\n"
          ],
          "name": "stdout"
        }
      ]
    },
    {
      "metadata": {
        "id": "Hee0NxlZ3ahm",
        "colab_type": "code",
        "outputId": "47443c59-7be1-4937-c6a3-a16e789b84ce",
        "colab": {
          "base_uri": "https://localhost:8080/",
          "height": 119
        }
      },
      "cell_type": "code",
      "source": [
        "# ... and on key-value pairs, via .items() : \n",
        "for k, v in n_of_paws.items():\n",
        "    print(\"A\", k, \"has\", v, \"paws\")"
      ],
      "execution_count": 0,
      "outputs": [
        {
          "output_type": "stream",
          "text": [
            "A cat has 4 paws\n",
            "A fish has 0 paws\n",
            "A bird has 2 paws\n",
            "A snake has 0 paws\n",
            "A ant has 6 paws\n",
            "A centipede has 30 paws\n"
          ],
          "name": "stdout"
        }
      ]
    },
    {
      "metadata": {
        "id": "-OKmn62J9uco",
        "colab_type": "code",
        "outputId": "e5584554-ef19-4c1c-e01d-9c2a0b0eab92",
        "colab": {
          "base_uri": "https://localhost:8080/",
          "height": 85
        }
      },
      "cell_type": "code",
      "source": [
        "# There is also a while statement, which works as usual... \n",
        "x = 3.\n",
        "while x > 1.1:\n",
        "    print(x)\n",
        "    x = x / 1.6\n",
        "print(\"The final result is:\", x)"
      ],
      "execution_count": 0,
      "outputs": [
        {
          "output_type": "stream",
          "text": [
            "3.0\n",
            "1.875\n",
            "1.171875\n",
            "The final result is: 0.732421875\n"
          ],
          "name": "stdout"
        }
      ]
    },
    {
      "metadata": {
        "id": "6qkLsTK93xxF",
        "colab_type": "text"
      },
      "cell_type": "markdown",
      "source": [
        "## Functions"
      ]
    },
    {
      "metadata": {
        "id": "zVeg_bdX3qqz",
        "colab_type": "code",
        "outputId": "9ddb6a45-831c-4030-bbfe-c5031319bb1f",
        "colab": {
          "base_uri": "https://localhost:8080/",
          "height": 34
        }
      },
      "cell_type": "code",
      "source": [
        "def addone(x):\n",
        "    return x + 1\n",
        "\n",
        "addone(3)"
      ],
      "execution_count": 0,
      "outputs": [
        {
          "output_type": "execute_result",
          "data": {
            "text/plain": [
              "4"
            ]
          },
          "metadata": {
            "tags": []
          },
          "execution_count": 67
        }
      ]
    },
    {
      "metadata": {
        "id": "3tb5Tjsy-rjt",
        "colab_type": "code",
        "colab": {}
      },
      "cell_type": "code",
      "source": [
        "# Ok, one more argument!  Let's test our CS skill! \n",
        "def add_one_to_prod(x, y):\n",
        "    \"\"\"This function adds one to the product of x and y,\n",
        "    and this is how you are supposed to document what a \n",
        "    function does.\"\"\"\n",
        "    p = x * y\n",
        "    return p + 1"
      ],
      "execution_count": 0,
      "outputs": []
    },
    {
      "metadata": {
        "id": "W_n5-apl_BP-",
        "colab_type": "code",
        "outputId": "f3283484-024d-436c-d1e9-8e81d858fda4",
        "colab": {
          "base_uri": "https://localhost:8080/",
          "height": 34
        }
      },
      "cell_type": "code",
      "source": [
        "# At this point, writing the function for the factorial is compulsory.\n",
        "def factorial(n):\n",
        "    # Assertions are useful to check that the values passed to a function make sense.\n",
        "    # These assertions cause an error if not satisfied.  Try it! \n",
        "    assert type(n) is int, \"n is not an integer!\"\n",
        "    assert n > 0, \"n is not positive!\"\n",
        "    if n <= 1:\n",
        "        return 1\n",
        "    else:\n",
        "        return n * factorial(n - 1)\n",
        "    \n",
        "factorial(4)"
      ],
      "execution_count": 0,
      "outputs": [
        {
          "output_type": "execute_result",
          "data": {
            "text/plain": [
              "24"
            ]
          },
          "metadata": {
            "tags": []
          },
          "execution_count": 70
        }
      ]
    },
    {
      "metadata": {
        "id": "p771ic3-_dV0",
        "colab_type": "code",
        "outputId": "234cddf3-914b-4c15-d657-823ace376044",
        "colab": {
          "base_uri": "https://localhost:8080/",
          "height": 34
        }
      },
      "cell_type": "code",
      "source": [
        "# Remember the Euclid's MCD algorithm? \n",
        "# Well, I hope I do.\n",
        "def mcd(n, k):\n",
        "    assert type(n) is int and type(k) is int # I am being fussy\n",
        "    assert n >= 0 and k >= 0\n",
        "    if n < 2: # Case for 0, 1\n",
        "        return k\n",
        "    else:\n",
        "        return mcd(k % n, n)\n",
        "\n",
        "# Note that in the algorithm above, in the first call it might be the case that \n",
        "# n > k, but in all other calls, n <= k (why?).  \n",
        "\n",
        "mcd(342, 54)"
      ],
      "execution_count": 0,
      "outputs": [
        {
          "output_type": "execute_result",
          "data": {
            "text/plain": [
              "18"
            ]
          },
          "metadata": {
            "tags": []
          },
          "execution_count": 71
        }
      ]
    },
    {
      "metadata": {
        "id": "GiWNWgfLAree",
        "colab_type": "code",
        "outputId": "6e6fd52f-f56d-4758-cabb-052efa1df42a",
        "colab": {
          "base_uri": "https://localhost:8080/",
          "height": 51
        }
      },
      "cell_type": "code",
      "source": [
        "# One of the very nice things about Python is that functions can have \n",
        "# optional arguments, which have a default value.\n",
        "def incadd(x, d=1):\n",
        "    return x + d\n",
        "\n",
        "print(incadd(3, d=4))\n",
        "print(incadd(3))"
      ],
      "execution_count": 0,
      "outputs": [
        {
          "output_type": "stream",
          "text": [
            "7\n",
            "4\n"
          ],
          "name": "stdout"
        }
      ]
    },
    {
      "metadata": {
        "id": "GBFW-H8jBjfR",
        "colab_type": "code",
        "outputId": "18434e80-864d-4b80-895e-a293173a1fbf",
        "colab": {
          "base_uri": "https://localhost:8080/",
          "height": 51
        }
      },
      "cell_type": "code",
      "source": [
        "# Often, the optional argument has default value None. \n",
        "# Functions, btw, can be passed around just as regular values.  \n",
        "# Let's try this.  Let us define a function g that squares a number.\n",
        "def g(x):\n",
        "    return x * x\n",
        "\n",
        "def f(x, h=None):\n",
        "    \"\"\"Adds 1 to x, then applies modifier function h if any,\n",
        "    and returns the result.\"\"\"\n",
        "    y = x + 1\n",
        "    return y if h is None else h(y)\n",
        "\n",
        "print(f(2))\n",
        "print(f(2, h=g))"
      ],
      "execution_count": 0,
      "outputs": [
        {
          "output_type": "stream",
          "text": [
            "3\n",
            "9\n"
          ],
          "name": "stdout"
        }
      ]
    },
    {
      "metadata": {
        "id": "iPp6yJhCApcR",
        "colab_type": "text"
      },
      "cell_type": "markdown",
      "source": [
        "## Print, and file input/output"
      ]
    },
    {
      "metadata": {
        "id": "LR3MyRgwAuAT",
        "colab_type": "code",
        "outputId": "bdbd39b8-4650-41f7-8357-28d7b227ff16",
        "colab": {
          "base_uri": "https://localhost:8080/",
          "height": 34
        }
      },
      "cell_type": "code",
      "source": [
        "# We have seen that the print() function takes any number of arguments,\n",
        "# and prints them with intervening spaces:\n",
        "print(\"I have\", 3, 'chicken')"
      ],
      "execution_count": 0,
      "outputs": [
        {
          "output_type": "stream",
          "text": [
            "I have 3 chicken\n"
          ],
          "name": "stdout"
        }
      ]
    },
    {
      "metadata": {
        "id": "pJNS96GMA71h",
        "colab_type": "code",
        "outputId": "f8479669-64c2-4ff2-ff71-e8291e97111a",
        "colab": {
          "base_uri": "https://localhost:8080/",
          "height": 51
        }
      },
      "cell_type": "code",
      "source": [
        "# We can also use {} and .format() to specify a string with {} holes, \n",
        "# which are filled by the arguments of .format(): \n",
        "print(\"I have {} chicken\".format(3))\n",
        "print(\"{} is divisible by {}\".format(10, 2))"
      ],
      "execution_count": 0,
      "outputs": [
        {
          "output_type": "stream",
          "text": [
            "I have 3 chicken\n",
            "10 is divisible by 2\n"
          ],
          "name": "stdout"
        }
      ]
    },
    {
      "metadata": {
        "id": "GZNGrOqfBO5J",
        "colab_type": "code",
        "outputId": "30e71718-232b-433a-9b22-07724135327e",
        "colab": {
          "base_uri": "https://localhost:8080/",
          "height": 34
        }
      },
      "cell_type": "code",
      "source": [
        "# You can also use formatting options to specify the number of \n",
        "# digits to print for floating point numbers, etc. \n",
        "print(\"A gazillion is {:.2f}% less than a bazillion\".format(15.67980))"
      ],
      "execution_count": 0,
      "outputs": [
        {
          "output_type": "stream",
          "text": [
            "A gazillion is 15.68% less than a bazillion\n"
          ],
          "name": "stdout"
        }
      ]
    },
    {
      "metadata": {
        "id": "pkH3a2xEBxMC",
        "colab_type": "code",
        "colab": {}
      },
      "cell_type": "code",
      "source": [
        "# For file input output, you can open files for read and for write\n",
        "# like this, except that in a colab notebook, it's a little bit more complicated\n",
        "# because we don't have access to the local file system. \n",
        "with open('myfile', 'w') as f:\n",
        "    f.write(\"hello\")\n",
        "    \n",
        "# We don't need to close the file; it is closed as soon as we go out of the \n",
        "# scope of the with statement."
      ],
      "execution_count": 0,
      "outputs": []
    },
    {
      "metadata": {
        "id": "iK0t68PzCTTs",
        "colab_type": "code",
        "outputId": "f046a85f-5725-4797-9d5f-42f2d248b888",
        "colab": {
          "base_uri": "https://localhost:8080/",
          "height": 34
        }
      },
      "cell_type": "code",
      "source": [
        "with open('myfile') as f:\n",
        "    s = f.read() # This reads the file in a single shot\n",
        "print(s)"
      ],
      "execution_count": 0,
      "outputs": [
        {
          "output_type": "stream",
          "text": [
            "hello\n"
          ],
          "name": "stdout"
        }
      ]
    },
    {
      "metadata": {
        "id": "MVuuYwryCb-c",
        "colab_type": "code",
        "outputId": "46f1aec1-d245-4729-9577-af8bf378b8ac",
        "colab": {
          "base_uri": "https://localhost:8080/",
          "height": 85
        }
      },
      "cell_type": "code",
      "source": [
        "# You can also read files one line at a time by iterating over them:\n",
        "with open('mylongfile', 'w') as f:\n",
        "    f.write('hello\\n')\n",
        "    f.write('there!\\n')\n",
        "with open('mylongfile') as g:\n",
        "    for s in g:\n",
        "        print(s)"
      ],
      "execution_count": 0,
      "outputs": [
        {
          "output_type": "stream",
          "text": [
            "hello\n",
            "\n",
            "there!\n",
            "\n"
          ],
          "name": "stdout"
        }
      ]
    },
    {
      "metadata": {
        "id": "vDyUpa7_L54U",
        "colab_type": "text"
      },
      "cell_type": "markdown",
      "source": [
        "## Importing modules"
      ]
    },
    {
      "metadata": {
        "id": "5wYw6n_5L98R",
        "colab_type": "code",
        "outputId": "9c32fe7f-c16a-4744-e6d8-147fff07148a",
        "colab": {
          "base_uri": "https://localhost:8080/",
          "height": 34
        }
      },
      "cell_type": "code",
      "source": [
        "# Python libraries are organized in modules. \n",
        "# You need to import them before using them. \n",
        "import math\n",
        "math.sqrt(3.)"
      ],
      "execution_count": 0,
      "outputs": [
        {
          "output_type": "execute_result",
          "data": {
            "text/plain": [
              "1.7320508075688772"
            ]
          },
          "metadata": {
            "tags": []
          },
          "execution_count": 83
        }
      ]
    },
    {
      "metadata": {
        "id": "ptW6o8nZMI3v",
        "colab_type": "code",
        "outputId": "199d3648-6f74-4b90-a517-5665cd4196cf",
        "colab": {
          "base_uri": "https://localhost:8080/",
          "height": 34
        }
      },
      "cell_type": "code",
      "source": [
        "# If you like, you can also import individual functions from libraries.\n",
        "from math import sqrt as square_root\n",
        "square_root(2.)"
      ],
      "execution_count": 0,
      "outputs": [
        {
          "output_type": "execute_result",
          "data": {
            "text/plain": [
              "1.4142135623730951"
            ]
          },
          "metadata": {
            "tags": []
          },
          "execution_count": 84
        }
      ]
    },
    {
      "metadata": {
        "id": "jRH24PaU-iso",
        "colab_type": "text"
      },
      "cell_type": "markdown",
      "source": [
        "One of the things that makes Python great is the huge set of modules that are available for it.  You can look at https://docs.python.org/3/library/ for information about the Python standard library, but there is a very large number of modules besides the standard library.  The general rule is, before you try to implement something, look at whether there is a module available that does (part of) what you want to do."
      ]
    },
    {
      "metadata": {
        "id": "ureSKSFMMXtX",
        "colab_type": "code",
        "colab": {}
      },
      "cell_type": "code",
      "source": [
        "# If you have a file myfile.py in the current directory, defining a function f,\n",
        "# you can import it and use f like this: \n",
        "# import myfile\n",
        "# y = myfile.f(x)\n"
      ],
      "execution_count": 0,
      "outputs": []
    },
    {
      "metadata": {
        "id": "rfrbB8AYMrMk",
        "colab_type": "code",
        "colab": {}
      },
      "cell_type": "code",
      "source": [
        "# If myfile is in a subdirectory foo of the current directory, \n",
        "# and if foo contains both myfile.py and __init__.py (the latter\n",
        "# can be empty, but must exist), then you can do: \n",
        "# import foo.myfile\n",
        "# y = myfile.f(x)"
      ],
      "execution_count": 0,
      "outputs": []
    },
    {
      "metadata": {
        "id": "dRtVOqsBC4AJ",
        "colab_type": "text"
      },
      "cell_type": "markdown",
      "source": [
        "## Exceptions"
      ]
    },
    {
      "metadata": {
        "id": "nzl7G2J6C7IR",
        "colab_type": "code",
        "outputId": "a7f9bc5e-78f1-4f5f-e5e6-2cbc89cd6401",
        "colab": {
          "base_uri": "https://localhost:8080/",
          "height": 34
        }
      },
      "cell_type": "code",
      "source": [
        "# When things go wrong, an exception is raised.  You can \n",
        "# catch it and handle it like so:\n",
        "try:\n",
        "    x = 34 / 'a'\n",
        "except:\n",
        "    x = None\n",
        "print(x)"
      ],
      "execution_count": 0,
      "outputs": [
        {
          "output_type": "stream",
          "text": [
            "None\n"
          ],
          "name": "stdout"
        }
      ]
    },
    {
      "metadata": {
        "id": "LlWMZjRaC8DJ",
        "colab_type": "code",
        "outputId": "93df3df8-e8aa-4718-a319-357cb038f3f8",
        "colab": {
          "base_uri": "https://localhost:8080/",
          "height": 102
        }
      },
      "cell_type": "code",
      "source": [
        "# The module 'traceback' is very useful to figure out where \n",
        "# exceptions happen, and what happened:\n",
        "import traceback\n",
        "try: \n",
        "    x = 34 / 'a'\n",
        "except:\n",
        "    print(traceback.format_exc())"
      ],
      "execution_count": 0,
      "outputs": [
        {
          "output_type": "stream",
          "text": [
            "Traceback (most recent call last):\n",
            "  File \"<ipython-input-123-5698555f1f48>\", line 3, in <module>\n",
            "    x = 34 / 'a'\n",
            "TypeError: unsupported operand type(s) for /: 'int' and 'str'\n",
            "\n"
          ],
          "name": "stdout"
        }
      ]
    },
    {
      "metadata": {
        "id": "Dw70PaQVDdV9",
        "colab_type": "code",
        "outputId": "624c8e21-016c-4a57-93ec-3f7125b6edb9",
        "colab": {
          "base_uri": "https://localhost:8080/",
          "height": 34
        }
      },
      "cell_type": "code",
      "source": [
        "# You can also define and raise your own exceptions, \n",
        "# which are defined similarly to classes:\n",
        "class Indigestion(Exception):\n",
        "    pass\n",
        "\n",
        "def eat(m, l):\n",
        "    if len(l) > 2:\n",
        "        raise Indigestion()\n",
        "    return m + l\n",
        "\n",
        "l = ['eggs', 'bacon', 'peanuts']\n",
        "\n",
        "try:\n",
        "    eat(['bananas'], l)\n",
        "except Indigestion:\n",
        "    print(\"Hey, that's too much.\")"
      ],
      "execution_count": 0,
      "outputs": [
        {
          "output_type": "stream",
          "text": [
            "Hey, that's too much.\n"
          ],
          "name": "stdout"
        }
      ]
    },
    {
      "metadata": {
        "id": "v3CGE72REsXJ",
        "colab_type": "text"
      },
      "cell_type": "markdown",
      "source": [
        "## Classes"
      ]
    },
    {
      "metadata": {
        "id": "QkYwW8lIEc1M",
        "colab_type": "code",
        "colab": {}
      },
      "cell_type": "code",
      "source": [
        "# Here is a simple standard class.\n",
        "class Product(object):\n",
        "    \n",
        "    def __init__(self, name, price=0., quantity=0):\n",
        "        \"\"\"In the initializer, you should define the values that each object\n",
        "        has.  Here, 'self' means, the object.\"\"\"\n",
        "        self.name = name \n",
        "        self.price = price\n",
        "        self.quantity = quantity\n",
        "        \n",
        "    def __repr__(self):\n",
        "        \"\"\"Represents a class element in a reasonable way.\n",
        "        Note the format statement below to help produce a string.\"\"\"\n",
        "        return \"Hello, I am a {} and cost ${}; you have {} of me\".format(\n",
        "            self.name, self.price, self.quantity\n",
        "        )\n",
        "            \n",
        "    \n",
        "    def inflation(self, x):\n",
        "        \"\"\"Increases the price by a factor x.\n",
        "        Note how self is always the first argument of methods; otherwise,\n",
        "        you would not know to which object to apply the operations.\"\"\"\n",
        "        self.price *= x\n",
        "        \n",
        "    def value(self):\n",
        "        \"\"\"Total value of products of this type.\"\"\"\n",
        "        return self.price * self.quantity\n",
        "        "
      ],
      "execution_count": 0,
      "outputs": []
    },
    {
      "metadata": {
        "id": "Vjif1xPIOn3L",
        "colab_type": "code",
        "colab": {}
      },
      "cell_type": "code",
      "source": [
        "# Let's make a list of products.\n",
        "cart = [\n",
        "    Product('Pear', price=1.99, quantity=10),\n",
        "    Product('Apple', price=0.99, quantity=15),\n",
        "    Product('Onion', price=1.49, quantity=57)\n",
        "]"
      ],
      "execution_count": 0,
      "outputs": []
    },
    {
      "metadata": {
        "id": "A-np4oPXOmzG",
        "colab_type": "code",
        "outputId": "aa91c21f-3f5c-403c-d34f-50bf2f7f257a",
        "colab": {
          "base_uri": "https://localhost:8080/",
          "height": 68
        }
      },
      "cell_type": "code",
      "source": [
        "# We can print it; the representation is given by __repr__. \n",
        "for p in cart:\n",
        "    print(p)"
      ],
      "execution_count": 0,
      "outputs": [
        {
          "output_type": "stream",
          "text": [
            "Hello, I am a Pear and cost $1.99; you have 10 of me\n",
            "Hello, I am a Apple and cost $0.99; you have 15 of me\n",
            "Hello, I am a Onion and cost $1.49; you have 57 of me\n"
          ],
          "name": "stdout"
        }
      ]
    },
    {
      "metadata": {
        "id": "bqSkhbxMPYkz",
        "colab_type": "code",
        "outputId": "2c7bee0c-a31f-488d-80ba-b76975b0aadc",
        "colab": {
          "base_uri": "https://localhost:8080/",
          "height": 68
        }
      },
      "cell_type": "code",
      "source": [
        "# What if you buy more apples?  \n",
        "# The proper way would be to define a buy method, and write \n",
        "# something like p.buy(10) to buy 10 more.  But in Python, there is \n",
        "# nothing to prevent you from accessing object variables directly.\n",
        "\n",
        "def double_the_cart(c):\n",
        "    for p in c:\n",
        "        p.quantity *= 2\n",
        "        \n",
        "double_the_cart(cart)\n",
        "\n",
        "def print_cart(c):\n",
        "    for p in c:\n",
        "        print(p)\n",
        "        \n",
        "print_cart(cart)"
      ],
      "execution_count": 0,
      "outputs": [
        {
          "output_type": "stream",
          "text": [
            "Hello, I am a Pear and cost $1.99; you have 20 of me\n",
            "Hello, I am a Apple and cost $0.99; you have 30 of me\n",
            "Hello, I am a Onion and cost $1.49; you have 114 of me\n"
          ],
          "name": "stdout"
        }
      ]
    },
    {
      "metadata": {
        "id": "GiIDiPF-QqeS",
        "colab_type": "text"
      },
      "cell_type": "markdown",
      "source": [
        "## A simple event-based simulator"
      ]
    },
    {
      "metadata": {
        "id": "VXPul2nYSEjT",
        "colab_type": "text"
      },
      "cell_type": "markdown",
      "source": [
        "Let's try to put everything together and design a simple event-based simulator. \n",
        "\n",
        "Every event will have a time at which it happens.  When it happens, it will generate two things: a string that is printed, and a list (possibly empty) of subsequent events. \n",
        "\n",
        "Let us write the code for three event types: one that occurs only once, one that occurs periodically with a certain delay between occurrences forever, and one that occurs periodically, but has a specified maximum number of occurrences."
      ]
    },
    {
      "metadata": {
        "id": "ZyGOQoslhva5",
        "colab_type": "code",
        "colab": {}
      },
      "cell_type": "code",
      "source": [
        "# Before we do it, we have to remedy one of the few silly \n",
        "# choices in the design of Python.\n",
        "# There is apparently no sign function! \n",
        "# This is so silly that I can't resist defining one. \n",
        "def sign(x):\n",
        "    if x < 0:\n",
        "        return -1\n",
        "    elif x > 0:\n",
        "        return 1\n",
        "    else:\n",
        "        return 0"
      ],
      "execution_count": 0,
      "outputs": []
    },
    {
      "metadata": {
        "id": "R6NcNyN-Qpda",
        "colab_type": "code",
        "outputId": "34c96728-133c-42c7-ccc9-6c9759cfdae1",
        "colab": {
          "base_uri": "https://localhost:8080/",
          "height": 34
        }
      },
      "cell_type": "code",
      "source": [
        "class GenericEvent(object):\n",
        "    \n",
        "    def __init__(self, name, time):\n",
        "        self.name = name\n",
        "        self.time = time\n",
        "        \n",
        "    def __repr__(self):\n",
        "        return \"Event {} of type {} will occurr at {}\".format(\n",
        "            self.name,\n",
        "            type(self),\n",
        "            self.time.isoformat()\n",
        "        )\n",
        "    \n",
        "    def __lt__(self, other):\n",
        "        \"\"\"To sort events according to their time, we need to \n",
        "        implement the __lt__ operator.  This will be used by heapq later.\"\"\" \n",
        "        return self.time < other.time        \n",
        "    \n",
        "    def _effect(self):\n",
        "        \"\"\"In Python, methods that are supposed to be accessed only within\n",
        "        the class are prepended with _.  Note that this is just a convention;\n",
        "        nothing prevents you from calling these methods from outside the class.\n",
        "        \"\"\"\n",
        "        print(\"At {}: {}\".format(self.time.isoformat(), self.name))\n",
        "        \n",
        "    def do(self):\n",
        "        \"\"\"You are supposed to define what happens in each subclass.\"\"\"\n",
        "        raise NotImplementedError\n",
        "        \n",
        "# We need the datetime module to process times.\n",
        "import datetime\n",
        "e = GenericEvent('Sun shines', datetime.datetime.now() + datetime.timedelta(hours=1))\n",
        "e"
      ],
      "execution_count": 0,
      "outputs": [
        {
          "output_type": "execute_result",
          "data": {
            "text/plain": [
              "Event Sun shines of type <class '__main__.GenericEvent'> will occurr at 2019-01-16T01:12:24.740971"
            ]
          },
          "metadata": {
            "tags": []
          },
          "execution_count": 101
        }
      ]
    },
    {
      "metadata": {
        "id": "GOn2kj8OTlgG",
        "colab_type": "code",
        "colab": {}
      },
      "cell_type": "code",
      "source": [
        "# Ok.  Now let's define an event that happens once only.\n",
        "class OnceOnlyEvent(GenericEvent):\n",
        "    \"\"\"OnceOnlyEvent extends GenericEvent, and so it inherits all of its\n",
        "    methods, including __repr__, __comp__, _effect.\"\"\"\n",
        "    \n",
        "    def __init__(self, name, time):\n",
        "        # We simply define an element of the superclass.\n",
        "        # Here, super(OnceOnlyEvent, self) is the Python way for getting\n",
        "        # access to the superclass methods from a subclass. \n",
        "        super(OnceOnlyEvent, self).__init__(name, time)\n",
        "        \n",
        "    def do(self):\n",
        "        self._effect()\n",
        "        # No other events are generated.\n",
        "        return []"
      ],
      "execution_count": 0,
      "outputs": []
    },
    {
      "metadata": {
        "id": "oU9pf8fwU9Gx",
        "colab_type": "code",
        "colab": {}
      },
      "cell_type": "code",
      "source": [
        "class InfinitePeriodicEvent(GenericEvent):\n",
        "    \"\"\"This is a periodic event.\"\"\"\n",
        "    \n",
        "    def __init__(self, name, time, periodicity):\n",
        "        \"\"\"time is a datetime object; periodicity is expressed as a timedelta object.\"\"\"\n",
        "        super(InfinitePeriodicEvent, self).__init__(name, time)\n",
        "        self.periodicity = periodicity\n",
        "        \n",
        "    def do(self):\n",
        "        self._effect()\n",
        "        # Generates and returns the next occurrence of the event.\n",
        "        next_event = PeriodicEvent(\n",
        "            self.name, \n",
        "            self.time + self.periodicity,\n",
        "            self.periodicity\n",
        "        )\n",
        "        return [next_event]\n",
        "        \n",
        "        "
      ],
      "execution_count": 0,
      "outputs": []
    },
    {
      "metadata": {
        "id": "JBDmQKy_WGiq",
        "colab_type": "code",
        "colab": {}
      },
      "cell_type": "code",
      "source": [
        "class PeriodicEvent(GenericEvent):\n",
        "    \"\"\"This is a periodic event like above, except that it has\n",
        "    an optional maximum number of occurrences.\"\"\"\n",
        "    \n",
        "    def __init__(self, name, time, periodicity, num_occurrences=None):\n",
        "        \"\"\"\n",
        "        Let's document this constructor a bit better.\n",
        "        @param name: name of the event.\n",
        "        @param time: time of first occurrence of the event (datetime object).\n",
        "        @param periodicity: periodicity of the event (timedelta object).\n",
        "        @param num_occurrences: number of future occurrences of the event.\n",
        "            If None, then infinite future occurrences can happen.\n",
        "        \n",
        "        \"\"\"\n",
        "        assert num_occurrences is None or num_occurrences > 0\n",
        "        # We don't want to go back in time!\n",
        "        assert periodicity.total_seconds() > 0.\n",
        "        super(PeriodicEvent, self).__init__(name, time)\n",
        "        self.periodicity = periodicity\n",
        "        self.num_occurrences = num_occurrences\n",
        "        \n",
        "    def do(self):\n",
        "        self._effect()\n",
        "        # Generates and returns the next occurrence of the event.\n",
        "        if self.num_occurrences is None or self.num_occurrences > 1:\n",
        "            return [PeriodicEvent(\n",
        "                self.name, \n",
        "                self.time + self.periodicity,\n",
        "                self.periodicity,\n",
        "                num_occurrences = None if self.num_occurrences is None \n",
        "                                  else self.num_occurrences - 1\n",
        "            )]\n",
        "        else:\n",
        "            return []\n"
      ],
      "execution_count": 0,
      "outputs": []
    },
    {
      "metadata": {
        "id": "paW7emunYCI8",
        "colab_type": "text"
      },
      "cell_type": "markdown",
      "source": [
        "Great.  Now, let's define our discrete event simulator.  It will be a class, have a method to add new events to it, and it will have a method step(), which causes the next event to occur. \n",
        "\n",
        "In order to quickly determine which one is the next event, \n",
        "we will store events in a priority queue.  This is implemented via the heapq module, whose documentation is at https://docs.python.org/2/library/heapq.html"
      ]
    },
    {
      "metadata": {
        "id": "QMKRcWMOX3dY",
        "colab_type": "code",
        "colab": {}
      },
      "cell_type": "code",
      "source": [
        "import heapq # Implementation of a priority queue in Python.\n",
        "             # This is what uses the __lt__ method of events.\n",
        "\n",
        "class EventSimulator(object):\n",
        "    \n",
        "    def __init__(self, event_list=[]):\n",
        "        self.event_heap = event_list\n",
        "        # We transform the event list into a heap.\n",
        "        heapq.heapify(self.event_heap)\n",
        "        \n",
        "    def add_event(self, e):\n",
        "        \"\"\"Adds an event e, maintaining the heap invariant.\"\"\"\n",
        "        heapq.heappush(self.event_heap, e)\n",
        "        \n",
        "    def step(self):\n",
        "        \"\"\"Performs one step of the event simulator.\"\"\"\n",
        "        # Gets the first event.\n",
        "        e = heapq.heappop(self.event_heap)\n",
        "        # Causes e to happen.\n",
        "        generated_events = e.do()\n",
        "        # And inserts the resulting events into the heap of future events.\n",
        "        for ge in generated_events:\n",
        "            self.add_event(ge)"
      ],
      "execution_count": 0,
      "outputs": []
    },
    {
      "metadata": {
        "id": "-Va0ZFeOcnvy",
        "colab_type": "code",
        "colab": {}
      },
      "cell_type": "code",
      "source": [
        "# That's all there is to it.  Now let's try how it works.\n",
        "# We generate a couple of events that happen only once: \n",
        "now = datetime.datetime.now()\n",
        "ten_secs = datetime.timedelta(seconds=10)\n",
        "twentyfive_secs = datetime.timedelta(seconds=25)\n",
        "\n",
        "once1 = OnceOnlyEvent(\"once1\", now + ten_secs)\n",
        "once2 = OnceOnlyEvent(\"once2\", now + twentyfive_secs)"
      ],
      "execution_count": 0,
      "outputs": []
    },
    {
      "metadata": {
        "id": "Ebb1lJlAdPdj",
        "colab_type": "code",
        "colab": {}
      },
      "cell_type": "code",
      "source": [
        "# Let's also define two periodic events, one with 3 occurrences,\n",
        "# the other with infinite occurrences.\n",
        "two_secs = datetime.timedelta(seconds=2)\n",
        "three_secs = datetime.timedelta(seconds=3)\n",
        "\n",
        "periodic1 = PeriodicEvent(\"periodic1\", now + ten_secs, two_secs, num_occurrences=3)\n",
        "periodic2 = PeriodicEvent(\"periodic2\", now + twentyfive_secs, three_secs)\n"
      ],
      "execution_count": 0,
      "outputs": []
    },
    {
      "metadata": {
        "id": "njwkT706eXLm",
        "colab_type": "code",
        "colab": {}
      },
      "cell_type": "code",
      "source": [
        "# Let's create our event simulator. \n",
        "sim = EventSimulator([once1, once2, periodic1, periodic2])"
      ],
      "execution_count": 0,
      "outputs": []
    },
    {
      "metadata": {
        "id": "LsjIFxY-g3P7",
        "colab_type": "code",
        "outputId": "f9b1edf8-f433-4951-c60d-4b69222909df",
        "colab": {
          "base_uri": "https://localhost:8080/",
          "height": 34
        }
      },
      "cell_type": "code",
      "source": [
        "sim.step()"
      ],
      "execution_count": 0,
      "outputs": [
        {
          "output_type": "stream",
          "text": [
            "At 2019-01-16T00:12:41.396490: periodic1\n"
          ],
          "name": "stdout"
        }
      ]
    },
    {
      "metadata": {
        "id": "JuNMeyDYiNFs",
        "colab_type": "code",
        "outputId": "0a2df620-0d11-4e78-fc14-231dc1f1358a",
        "colab": {
          "base_uri": "https://localhost:8080/",
          "height": 85
        }
      },
      "cell_type": "code",
      "source": [
        "# What's in the event queue? \n",
        "sim.event_heap"
      ],
      "execution_count": 0,
      "outputs": [
        {
          "output_type": "execute_result",
          "data": {
            "text/plain": [
              "[Event once1 of type <class '__main__.OnceOnlyEvent'> will occurr at 2019-01-16T00:12:41.396490,\n",
              " Event periodic1 of type <class '__main__.PeriodicEvent'> will occurr at 2019-01-16T00:12:43.396490,\n",
              " Event once2 of type <class '__main__.OnceOnlyEvent'> will occurr at 2019-01-16T00:12:56.396490,\n",
              " Event periodic2 of type <class '__main__.PeriodicEvent'> will occurr at 2019-01-16T00:12:56.396490]"
            ]
          },
          "metadata": {
            "tags": []
          },
          "execution_count": 111
        }
      ]
    },
    {
      "metadata": {
        "id": "SpxS_5SYioUv",
        "colab_type": "code",
        "outputId": "b7b19c8b-a5c4-4ff3-a675-ad0c88a8648d",
        "colab": {
          "base_uri": "https://localhost:8080/",
          "height": 374
        }
      },
      "cell_type": "code",
      "source": [
        "# Let's do 20 steps now.\n",
        "for _ in range(20):\n",
        "    sim.step()\n",
        "sim.event_heap"
      ],
      "execution_count": 0,
      "outputs": [
        {
          "output_type": "stream",
          "text": [
            "At 2019-01-16T00:12:41.396490: once1\n",
            "At 2019-01-16T00:12:43.396490: periodic1\n",
            "At 2019-01-16T00:12:45.396490: periodic1\n",
            "At 2019-01-16T00:12:56.396490: once2\n",
            "At 2019-01-16T00:12:56.396490: periodic2\n",
            "At 2019-01-16T00:12:59.396490: periodic2\n",
            "At 2019-01-16T00:13:02.396490: periodic2\n",
            "At 2019-01-16T00:13:05.396490: periodic2\n",
            "At 2019-01-16T00:13:08.396490: periodic2\n",
            "At 2019-01-16T00:13:11.396490: periodic2\n",
            "At 2019-01-16T00:13:14.396490: periodic2\n",
            "At 2019-01-16T00:13:17.396490: periodic2\n",
            "At 2019-01-16T00:13:20.396490: periodic2\n",
            "At 2019-01-16T00:13:23.396490: periodic2\n",
            "At 2019-01-16T00:13:26.396490: periodic2\n",
            "At 2019-01-16T00:13:29.396490: periodic2\n",
            "At 2019-01-16T00:13:32.396490: periodic2\n",
            "At 2019-01-16T00:13:35.396490: periodic2\n",
            "At 2019-01-16T00:13:38.396490: periodic2\n",
            "At 2019-01-16T00:13:41.396490: periodic2\n"
          ],
          "name": "stdout"
        },
        {
          "output_type": "execute_result",
          "data": {
            "text/plain": [
              "[Event periodic2 of type <class '__main__.PeriodicEvent'> will occurr at 2019-01-16T00:13:44.396490]"
            ]
          },
          "metadata": {
            "tags": []
          },
          "execution_count": 112
        }
      ]
    },
    {
      "metadata": {
        "id": "GhXCeYkojMl9",
        "colab_type": "text"
      },
      "cell_type": "markdown",
      "source": [
        "*That's All, Folks!*"
      ]
    }
  ]
}